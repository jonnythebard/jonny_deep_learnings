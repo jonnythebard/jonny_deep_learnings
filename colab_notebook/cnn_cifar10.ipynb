{
  "nbformat": 4,
  "nbformat_minor": 0,
  "metadata": {
    "colab": {
      "name": "cnn_cifar10.ipynb",
      "provenance": [],
      "include_colab_link": true
    },
    "kernelspec": {
      "name": "python3",
      "display_name": "Python 3"
    },
    "accelerator": "GPU"
  },
  "cells": [
    {
      "cell_type": "markdown",
      "metadata": {
        "id": "view-in-github",
        "colab_type": "text"
      },
      "source": [
        "<a href=\"https://colab.research.google.com/github/jonnythebard/tf2_workbook/blob/master/colab_notebook/cnn_cifar10.ipynb\" target=\"_parent\"><img src=\"https://colab.research.google.com/assets/colab-badge.svg\" alt=\"Open In Colab\"/></a>"
      ]
    },
    {
      "cell_type": "code",
      "metadata": {
        "id": "8deBZzwWU21G",
        "colab_type": "code",
        "colab": {
          "base_uri": "https://localhost:8080/",
          "height": 119
        },
        "outputId": "bde08921-ee96-4df0-cddb-1e82baf6199c"
      },
      "source": [
        "# Install Tensorflow\n",
        "# !pip install -q tensorflow-gpu==2.0.0-beta1\n",
        "try:\n",
        "  %tensorflow_version 2.x  # Colab only.\n",
        "except Exception:\n",
        "  pass\n",
        "\n",
        "import tensorflow as tf\n",
        "print(tf.__version__)"
      ],
      "execution_count": 2,
      "outputs": [
        {
          "output_type": "stream",
          "text": [
            "`%tensorflow_version` only switches the major version: `1.x` or `2.x`.\n",
            "You set: `2.x  # Colab only.`. This will be interpreted as: `2.x`.\n",
            "\n",
            "\n",
            "TensorFlow is already loaded. Please restart the runtime to change versions.\n",
            "2.0.0\n"
          ],
          "name": "stdout"
        }
      ]
    },
    {
      "cell_type": "code",
      "metadata": {
        "id": "FraAtxBhXRZ8",
        "colab_type": "code",
        "colab": {
          "base_uri": "https://localhost:8080/",
          "height": 34
        },
        "outputId": "ee44b5f2-0da1-43f9-f9ee-fc697c6922b9"
      },
      "source": [
        "# additional imports\n",
        "\n",
        "import numpy as np\n",
        "import matplotlib.pyplot as plt\n",
        "from tensorflow.keras.layers import Input, Conv2D, Dense, Flatten, Dropout, BatchNormalization, MaxPooling2D, GlobalAveragePooling2D\n",
        "from tensorflow.keras.models import Model\n",
        "print(BatchNormalization)"
      ],
      "execution_count": 9,
      "outputs": [
        {
          "output_type": "stream",
          "text": [
            "<class 'tensorflow.python.keras.layers.normalization_v2.BatchNormalization'>\n"
          ],
          "name": "stdout"
        }
      ]
    },
    {
      "cell_type": "code",
      "metadata": {
        "id": "zcl0iSXRXyIJ",
        "colab_type": "code",
        "colab": {
          "base_uri": "https://localhost:8080/",
          "height": 51
        },
        "outputId": "11b897ee-9e7d-431a-a43b-eb9b85f9ea20"
      },
      "source": [
        "# load in the data\n",
        "cifar10 = tf.keras.datasets.cifar10\n",
        "\n",
        "(x_train, y_train), (x_test, y_test) = cifar10.load_data()\n",
        "x_train, x_test = x_train / 255.0, x_test / 255.0\n",
        "y_train, y_test = y_train.flatten(), y_test.flatten()\n",
        "print(\"x_train.shape:\", x_train.shape)\n",
        "print(\"y_train.shape:\", y_train.shape)"
      ],
      "execution_count": 10,
      "outputs": [
        {
          "output_type": "stream",
          "text": [
            "x_train.shape: (50000, 32, 32, 3)\n",
            "y_train.shape: (50000,)\n"
          ],
          "name": "stdout"
        }
      ]
    },
    {
      "cell_type": "code",
      "metadata": {
        "id": "3MYVKPzyYlkE",
        "colab_type": "code",
        "colab": {
          "base_uri": "https://localhost:8080/",
          "height": 34
        },
        "outputId": "a7bc3add-fa93-416d-c392-2d1bc6a18c37"
      },
      "source": [
        "# number of classes\n",
        "K = len(set(y_train))\n",
        "print(\"number of classes:\", K)"
      ],
      "execution_count": 11,
      "outputs": [
        {
          "output_type": "stream",
          "text": [
            "number of classes: 10\n"
          ],
          "name": "stdout"
        }
      ]
    },
    {
      "cell_type": "code",
      "metadata": {
        "id": "HYUhWCTNZ5Ij",
        "colab_type": "code",
        "colab": {
          "base_uri": "https://localhost:8080/",
          "height": 833
        },
        "outputId": "faf19ee4-93e0-4543-a30c-255c8bd0cffc"
      },
      "source": [
        "# build the model\n",
        "i = Input(shape=x_train[0].shape)\n",
        "x = Conv2D(filters=32, kernel_size=(3, 3), activation='relu', strides=1, padding='same', data_format='channels_last', input_shape=(32,32,3))(i)\n",
        "x = BatchNormalization()(x)\n",
        "x = Conv2D(filters=32, kernel_size=(3, 3), activation='relu', strides=1, padding='same', data_format='channels_last')(x)\n",
        "x = BatchNormalization()(x)\n",
        "x = Dropout(0.25)(x)\n",
        "x = Conv2D(filters=64, kernel_size=(3, 3), activation='relu', strides=1, padding='same', data_format='channels_last')(x)\n",
        "x = MaxPooling2D(pool_size=(2, 2))(x)\n",
        "x = Dropout(0.25)(x)\n",
        "x = Conv2D(filters=128, kernel_size=(3, 3), activation='relu', strides=1, padding='same', data_format='channels_last')(x)\n",
        "x = BatchNormalization()(x)\n",
        "x = Dropout(0.25)(x)\n",
        "x = Flatten()(x)\n",
        "x = Dense(512, activation=\"relu\")(x)\n",
        "x = BatchNormalization()(x)\n",
        "x = Dropout(0.5)(x)\n",
        "x = Dense(128, activation=\"relu\")(x)\n",
        "x = BatchNormalization()(x)\n",
        "x = Dropout(0.5)(x)\n",
        "x = Dense(K, activation=\"softmax\")(x)\n",
        "\n",
        "model = Model(i, x)\n",
        "model.summary()"
      ],
      "execution_count": 12,
      "outputs": [
        {
          "output_type": "stream",
          "text": [
            "Model: \"model\"\n",
            "_________________________________________________________________\n",
            "Layer (type)                 Output Shape              Param #   \n",
            "=================================================================\n",
            "input_1 (InputLayer)         [(None, 32, 32, 3)]       0         \n",
            "_________________________________________________________________\n",
            "conv2d (Conv2D)              (None, 32, 32, 32)        896       \n",
            "_________________________________________________________________\n",
            "batch_normalization (BatchNo (None, 32, 32, 32)        128       \n",
            "_________________________________________________________________\n",
            "conv2d_1 (Conv2D)            (None, 32, 32, 32)        9248      \n",
            "_________________________________________________________________\n",
            "batch_normalization_1 (Batch (None, 32, 32, 32)        128       \n",
            "_________________________________________________________________\n",
            "dropout (Dropout)            (None, 32, 32, 32)        0         \n",
            "_________________________________________________________________\n",
            "conv2d_2 (Conv2D)            (None, 32, 32, 64)        18496     \n",
            "_________________________________________________________________\n",
            "max_pooling2d (MaxPooling2D) (None, 16, 16, 64)        0         \n",
            "_________________________________________________________________\n",
            "dropout_1 (Dropout)          (None, 16, 16, 64)        0         \n",
            "_________________________________________________________________\n",
            "conv2d_3 (Conv2D)            (None, 16, 16, 128)       73856     \n",
            "_________________________________________________________________\n",
            "batch_normalization_2 (Batch (None, 16, 16, 128)       512       \n",
            "_________________________________________________________________\n",
            "dropout_2 (Dropout)          (None, 16, 16, 128)       0         \n",
            "_________________________________________________________________\n",
            "flatten (Flatten)            (None, 32768)             0         \n",
            "_________________________________________________________________\n",
            "dense (Dense)                (None, 512)               16777728  \n",
            "_________________________________________________________________\n",
            "batch_normalization_3 (Batch (None, 512)               2048      \n",
            "_________________________________________________________________\n",
            "dropout_3 (Dropout)          (None, 512)               0         \n",
            "_________________________________________________________________\n",
            "dense_1 (Dense)              (None, 128)               65664     \n",
            "_________________________________________________________________\n",
            "batch_normalization_4 (Batch (None, 128)               512       \n",
            "_________________________________________________________________\n",
            "dropout_4 (Dropout)          (None, 128)               0         \n",
            "_________________________________________________________________\n",
            "dense_2 (Dense)              (None, 10)                1290      \n",
            "=================================================================\n",
            "Total params: 16,950,506\n",
            "Trainable params: 16,948,842\n",
            "Non-trainable params: 1,664\n",
            "_________________________________________________________________\n"
          ],
          "name": "stdout"
        }
      ]
    },
    {
      "cell_type": "code",
      "metadata": {
        "id": "BsIO9bD8a2ox",
        "colab_type": "code",
        "colab": {
          "base_uri": "https://localhost:8080/",
          "height": 1000
        },
        "outputId": "ed82806c-112d-4b21-89f3-186406f8f093"
      },
      "source": [
        "# compile and fit\n",
        "model.compile(optiminzer=\"adam\", loss=\"sparse_categorical_crossentropy\", metrics=[\"accuracy\"])\n",
        "r = model.fit(x_train, y_train, validation_data=(x_train, y_train), epochs=30)"
      ],
      "execution_count": 19,
      "outputs": [
        {
          "output_type": "stream",
          "text": [
            "Train on 50000 samples, validate on 50000 samples\n",
            "Epoch 1/30\n",
            "50000/50000 [==============================] - 48s 964us/sample - loss: 0.2794 - accuracy: 0.9061 - val_loss: 0.0457 - val_accuracy: 0.9912\n",
            "Epoch 2/30\n",
            "50000/50000 [==============================] - 47s 935us/sample - loss: 0.2611 - accuracy: 0.9142 - val_loss: 0.0591 - val_accuracy: 0.9882\n",
            "Epoch 3/30\n",
            "50000/50000 [==============================] - 47s 939us/sample - loss: 0.2562 - accuracy: 0.9156 - val_loss: 0.0424 - val_accuracy: 0.9931\n",
            "Epoch 4/30\n",
            "50000/50000 [==============================] - 46s 928us/sample - loss: 0.2432 - accuracy: 0.9183 - val_loss: 0.0665 - val_accuracy: 0.9875\n",
            "Epoch 5/30\n",
            "50000/50000 [==============================] - 46s 929us/sample - loss: 0.2352 - accuracy: 0.9232 - val_loss: 0.0226 - val_accuracy: 0.9963\n",
            "Epoch 6/30\n",
            "50000/50000 [==============================] - 47s 930us/sample - loss: 0.2239 - accuracy: 0.9256 - val_loss: 0.0502 - val_accuracy: 0.9868\n",
            "Epoch 7/30\n",
            "50000/50000 [==============================] - 47s 939us/sample - loss: 0.2157 - accuracy: 0.9275 - val_loss: 0.0386 - val_accuracy: 0.9920\n",
            "Epoch 8/30\n",
            "50000/50000 [==============================] - 47s 936us/sample - loss: 0.2138 - accuracy: 0.9282 - val_loss: 0.0310 - val_accuracy: 0.9933\n",
            "Epoch 9/30\n",
            "50000/50000 [==============================] - 46s 927us/sample - loss: 0.1998 - accuracy: 0.9358 - val_loss: 0.0153 - val_accuracy: 0.9973\n",
            "Epoch 10/30\n",
            "50000/50000 [==============================] - 47s 932us/sample - loss: 0.2034 - accuracy: 0.9330 - val_loss: 0.0315 - val_accuracy: 0.9932\n",
            "Epoch 11/30\n",
            "50000/50000 [==============================] - 46s 927us/sample - loss: 0.1948 - accuracy: 0.9354 - val_loss: 0.0218 - val_accuracy: 0.9958\n",
            "Epoch 12/30\n",
            "50000/50000 [==============================] - 46s 928us/sample - loss: 0.1833 - accuracy: 0.9395 - val_loss: 0.0122 - val_accuracy: 0.9980\n",
            "Epoch 13/30\n",
            "50000/50000 [==============================] - 46s 930us/sample - loss: 0.1851 - accuracy: 0.9375 - val_loss: 0.0083 - val_accuracy: 0.9989\n",
            "Epoch 14/30\n",
            "50000/50000 [==============================] - 47s 933us/sample - loss: 0.1776 - accuracy: 0.9415 - val_loss: 0.0104 - val_accuracy: 0.9984\n",
            "Epoch 15/30\n",
            "50000/50000 [==============================] - 46s 921us/sample - loss: 0.1769 - accuracy: 0.9422 - val_loss: 0.0199 - val_accuracy: 0.9954\n",
            "Epoch 16/30\n",
            "50000/50000 [==============================] - 46s 925us/sample - loss: 0.1749 - accuracy: 0.9427 - val_loss: 0.0360 - val_accuracy: 0.9897\n",
            "Epoch 17/30\n",
            "50000/50000 [==============================] - 46s 928us/sample - loss: 0.1681 - accuracy: 0.9443 - val_loss: 0.0421 - val_accuracy: 0.9884\n",
            "Epoch 18/30\n",
            "50000/50000 [==============================] - 46s 919us/sample - loss: 0.1654 - accuracy: 0.9451 - val_loss: 0.0067 - val_accuracy: 0.9988\n",
            "Epoch 19/30\n",
            "50000/50000 [==============================] - 46s 926us/sample - loss: 0.1582 - accuracy: 0.9474 - val_loss: 0.0054 - val_accuracy: 0.9993\n",
            "Epoch 20/30\n",
            "50000/50000 [==============================] - 46s 927us/sample - loss: 0.1616 - accuracy: 0.9470 - val_loss: 0.0102 - val_accuracy: 0.9977\n",
            "Epoch 21/30\n",
            "50000/50000 [==============================] - 46s 925us/sample - loss: 0.1551 - accuracy: 0.9494 - val_loss: 0.0041 - val_accuracy: 0.9994\n",
            "Epoch 22/30\n",
            "50000/50000 [==============================] - 46s 924us/sample - loss: 0.1541 - accuracy: 0.9492 - val_loss: 0.0064 - val_accuracy: 0.9991\n",
            "Epoch 23/30\n",
            "50000/50000 [==============================] - 46s 926us/sample - loss: 0.1468 - accuracy: 0.9513 - val_loss: 0.0087 - val_accuracy: 0.9982\n",
            "Epoch 24/30\n",
            "50000/50000 [==============================] - 46s 926us/sample - loss: 0.1493 - accuracy: 0.9515 - val_loss: 0.0368 - val_accuracy: 0.9885\n",
            "Epoch 25/30\n",
            "50000/50000 [==============================] - 46s 920us/sample - loss: 0.1395 - accuracy: 0.9545 - val_loss: 0.0049 - val_accuracy: 0.9992\n",
            "Epoch 26/30\n",
            "50000/50000 [==============================] - 47s 936us/sample - loss: 0.1506 - accuracy: 0.9507 - val_loss: 0.0037 - val_accuracy: 0.9997\n",
            "Epoch 27/30\n",
            "50000/50000 [==============================] - 47s 931us/sample - loss: 0.1444 - accuracy: 0.9525 - val_loss: 0.0088 - val_accuracy: 0.9978\n",
            "Epoch 28/30\n",
            "50000/50000 [==============================] - 46s 927us/sample - loss: 0.1409 - accuracy: 0.9531 - val_loss: 0.0163 - val_accuracy: 0.9953\n",
            "Epoch 29/30\n",
            "50000/50000 [==============================] - 46s 926us/sample - loss: 0.1405 - accuracy: 0.9539 - val_loss: 0.0044 - val_accuracy: 0.9991\n",
            "Epoch 30/30\n",
            "50000/50000 [==============================] - 46s 927us/sample - loss: 0.1375 - accuracy: 0.9548 - val_loss: 0.0044 - val_accuracy: 0.9993\n"
          ],
          "name": "stdout"
        }
      ]
    },
    {
      "cell_type": "code",
      "metadata": {
        "id": "Ols2cQyWlWFu",
        "colab_type": "code",
        "colab": {
          "base_uri": "https://localhost:8080/",
          "height": 282
        },
        "outputId": "af623195-8c98-4525-fc87-446e81131bf7"
      },
      "source": [
        "plt.plot(r.history[\"loss\"], label=\"loss\")\n",
        "plt.plot(r.history[\"val_loss\"], label=\"val_loss\")\n",
        "plt.legend()"
      ],
      "execution_count": 20,
      "outputs": [
        {
          "output_type": "execute_result",
          "data": {
            "text/plain": [
              "<matplotlib.legend.Legend at 0x7fb5d82c1160>"
            ]
          },
          "metadata": {
            "tags": []
          },
          "execution_count": 20
        },
        {
          "output_type": "display_data",
          "data": {
            "image/png": "[encoded data removed]",
            "text/plain": [
              "<Figure size 432x288 with 1 Axes>"
            ]
          },
          "metadata": {
            "tags": []
          }
        }
      ]
    },
    {
      "cell_type": "code",
      "metadata": {
        "id": "7X8wWsDPlfd-",
        "colab_type": "code",
        "colab": {
          "base_uri": "https://localhost:8080/",
          "height": 282
        },
        "outputId": "361cc378-29f4-4397-98f3-524e29cd50e5"
      },
      "source": [
        "plt.plot(r.history[\"accuracy\"], label=\"accuracy\")\n",
        "plt.plot(r.history[\"val_accuracy\"], label=\"val_accuracy\")\n",
        "plt.legend()"
      ],
      "execution_count": 21,
      "outputs": [
        {
          "output_type": "execute_result",
          "data": {
            "text/plain": [
              "<matplotlib.legend.Legend at 0x7fb5d82ef780>"
            ]
          },
          "metadata": {
            "tags": []
          },
          "execution_count": 21
        },
        {
          "output_type": "display_data",
          "data": {
            "image/png": "[encoded data removed]",
            "text/plain": [
              "<Figure size 432x288 with 1 Axes>"
            ]
          },
          "metadata": {
            "tags": []
          }
        }
      ]
    },
    {
      "cell_type": "code",
      "metadata": {
        "id": "fO24bYtBlu9X",
        "colab_type": "code",
        "colab": {
          "base_uri": "https://localhost:8080/",
          "height": 498
        },
        "outputId": "ad3997c0-d684-4ecb-a26a-32042f3c3f1f"
      },
      "source": [
        "# Plot confusion matrix\n",
        "from sklearn.metrics import confusion_matrix\n",
        "import itertools\n",
        "\n",
        "def plot_confusion_matrix(cm, classes,\n",
        "                          normalize=False,\n",
        "                          title='Confusion matrix',\n",
        "                          cmap=plt.cm.Blues):\n",
        "  \"\"\"\n",
        "  This function prints and plots the confusion matrix.\n",
        "  Normalization can be applied by setting `normalize=True`.\n",
        "  \"\"\"\n",
        "  if normalize:\n",
        "      cm = cm.astype('float') / cm.sum(axis=1)[:, np.newaxis]\n",
        "      print(\"Normalized confusion matrix\")\n",
        "  else:\n",
        "      print('Confusion matrix, without normalization')\n",
        "\n",
        "  print(cm)\n",
        "\n",
        "  plt.imshow(cm, interpolation='nearest', cmap=cmap)\n",
        "  plt.title(title)\n",
        "  plt.colorbar()\n",
        "  tick_marks = np.arange(len(classes))\n",
        "  plt.xticks(tick_marks, classes, rotation=45)\n",
        "  plt.yticks(tick_marks, classes)\n",
        "\n",
        "  fmt = '.2f' if normalize else 'd'\n",
        "  thresh = cm.max() / 2.\n",
        "  for i, j in itertools.product(range(cm.shape[0]), range(cm.shape[1])):\n",
        "      plt.text(j, i, format(cm[i, j], fmt),\n",
        "               horizontalalignment=\"center\",\n",
        "               color=\"white\" if cm[i, j] > thresh else \"black\")\n",
        "\n",
        "  plt.tight_layout()\n",
        "  plt.ylabel('True label')\n",
        "  plt.xlabel('Predicted label')\n",
        "  plt.show()\n",
        "\n",
        "\n",
        "p_test = model.predict(x_test).argmax(axis=1)\n",
        "cm = confusion_matrix(y_test, p_test)\n",
        "plot_confusion_matrix(cm, list(range(10)))"
      ],
      "execution_count": 17,
      "outputs": [
        {
          "output_type": "stream",
          "text": [
            "Confusion matrix, without normalization\n",
            "[[842  12  33  12  10   0   2   5  48  36]\n",
            " [ 14 903   4   2   3   2   2   1  16  53]\n",
            " [ 58   5 673  43  79  48  43  26  20   5]\n",
            " [ 35  15  60 601  55 123  47  23  19  22]\n",
            " [ 17   6  48  42 790  14  25  44  10   4]\n",
            " [ 17   5  36 160  34 670  18  42   9   9]\n",
            " [  8   8  36  45  29  12 839   9   7   7]\n",
            " [ 18   3  25  30  41  38   2 824   3  16]\n",
            " [ 53  20   5   5   3   5   3   1 882  23]\n",
            " [ 35  47   5   4   3   0   2   2  20 882]]\n"
          ],
          "name": "stdout"
        },
        {
          "output_type": "display_data",
          "data": {
            "image/png": "[encoded data removed]",
            "text/plain": [
              "<Figure size 432x288 with 2 Axes>"
            ]
          },
          "metadata": {
            "tags": []
          }
        }
      ]
    },
    {
      "cell_type": "code",
      "metadata": {
        "id": "Ff-sBWdHl9Ds",
        "colab_type": "code",
        "colab": {
          "base_uri": "https://localhost:8080/",
          "height": 215
        },
        "outputId": "92498956-b6b5-45e8-ed1d-a90e2ceece3b"
      },
      "source": [
        ""
      ],
      "execution_count": 18,
      "outputs": [
        {
          "output_type": "error",
          "ename": "ValueError",
          "evalue": "ignored",
          "traceback": [
            "\u001b[0;31m---------------------------------------------------------------------------\u001b[0m",
            "\u001b[0;31mValueError\u001b[0m                                Traceback (most recent call last)",
            "\u001b[0;32m<ipython-input-18-eeb054ee2f69>\u001b[0m in \u001b[0;36m<module>\u001b[0;34m()\u001b[0m\n\u001b[1;32m     13\u001b[0m \u001b[0mmisclassified_idx\u001b[0m \u001b[0;34m=\u001b[0m \u001b[0mnp\u001b[0m\u001b[0;34m.\u001b[0m\u001b[0mwhere\u001b[0m\u001b[0;34m(\u001b[0m\u001b[0mp_test\u001b[0m \u001b[0;34m!=\u001b[0m \u001b[0my_test\u001b[0m\u001b[0;34m)\u001b[0m\u001b[0;34m[\u001b[0m\u001b[0;36m0\u001b[0m\u001b[0;34m]\u001b[0m\u001b[0;34m\u001b[0m\u001b[0;34m\u001b[0m\u001b[0m\n\u001b[1;32m     14\u001b[0m \u001b[0mi\u001b[0m \u001b[0;34m=\u001b[0m \u001b[0mnp\u001b[0m\u001b[0;34m.\u001b[0m\u001b[0mrandom\u001b[0m\u001b[0;34m.\u001b[0m\u001b[0mchoice\u001b[0m\u001b[0;34m(\u001b[0m\u001b[0mmisclassified_idx\u001b[0m\u001b[0;34m)\u001b[0m\u001b[0;34m\u001b[0m\u001b[0;34m\u001b[0m\u001b[0m\n\u001b[0;32m---> 15\u001b[0;31m \u001b[0mplt\u001b[0m\u001b[0;34m.\u001b[0m\u001b[0mimshow\u001b[0m\u001b[0;34m(\u001b[0m\u001b[0mx_test\u001b[0m\u001b[0;34m[\u001b[0m\u001b[0mi\u001b[0m\u001b[0;34m]\u001b[0m\u001b[0;34m.\u001b[0m\u001b[0mreshape\u001b[0m\u001b[0;34m(\u001b[0m\u001b[0;36m28\u001b[0m\u001b[0;34m,\u001b[0m\u001b[0;36m28\u001b[0m\u001b[0;34m)\u001b[0m\u001b[0;34m,\u001b[0m \u001b[0mcmap\u001b[0m\u001b[0;34m=\u001b[0m\u001b[0;34m'gray'\u001b[0m\u001b[0;34m)\u001b[0m\u001b[0;34m\u001b[0m\u001b[0;34m\u001b[0m\u001b[0m\n\u001b[0m\u001b[1;32m     16\u001b[0m \u001b[0mplt\u001b[0m\u001b[0;34m.\u001b[0m\u001b[0mtitle\u001b[0m\u001b[0;34m(\u001b[0m\u001b[0;34m\"True label: %s Predicted: %s\"\u001b[0m \u001b[0;34m%\u001b[0m \u001b[0;34m(\u001b[0m\u001b[0mlabels\u001b[0m\u001b[0;34m[\u001b[0m\u001b[0my_test\u001b[0m\u001b[0;34m[\u001b[0m\u001b[0mi\u001b[0m\u001b[0;34m]\u001b[0m\u001b[0;34m]\u001b[0m\u001b[0;34m,\u001b[0m \u001b[0mlabels\u001b[0m\u001b[0;34m[\u001b[0m\u001b[0mp_test\u001b[0m\u001b[0;34m[\u001b[0m\u001b[0mi\u001b[0m\u001b[0;34m]\u001b[0m\u001b[0;34m]\u001b[0m\u001b[0;34m)\u001b[0m\u001b[0;34m)\u001b[0m\u001b[0;34m;\u001b[0m\u001b[0;34m\u001b[0m\u001b[0;34m\u001b[0m\u001b[0m\n",
            "\u001b[0;31mValueError\u001b[0m: cannot reshape array of size 3072 into shape (28,28)"
          ]
        }
      ]
    }
  ]
}