{
  "nbformat": 4,
  "nbformat_minor": 0,
  "metadata": {
    "colab": {
      "name": "explore_rnn.ipynb",
      "provenance": [],
      "include_colab_link": true
    },
    "kernelspec": {
      "name": "python3",
      "display_name": "Python 3"
    }
  },
  "cells": [
    {
      "cell_type": "markdown",
      "metadata": {
        "id": "view-in-github",
        "colab_type": "text"
      },
      "source": [
        "<a href=\"https://colab.research.google.com/github/jonnythebard/tf2_workbook/blob/master/explore_rnn.ipynb\" target=\"_parent\"><img src=\"https://colab.research.google.com/assets/colab-badge.svg\" alt=\"Open In Colab\"/></a>"
      ]
    },
    {
      "cell_type": "code",
      "metadata": {
        "id": "DAxzeaA6Q6T_",
        "colab_type": "code",
        "outputId": "5bb63add-bcdc-48c4-e7e3-240aae3bd817",
        "colab": {
          "base_uri": "https://localhost:8080/",
          "height": 119
        }
      },
      "source": [
        "# imports\n",
        "try:\n",
        "  %tensorflow_version 2.x  # Colab only.\n",
        "except Exception:\n",
        "  pass\n",
        "\n",
        "import tensorflow as tf\n",
        "print(tf.__version__)\n",
        "\n",
        "from tensorflow.keras.layers import Input, Dense, SimpleRNN, Flatten\n",
        "from tensorflow.keras.models import Model\n",
        "from tensorflow.keras.optimizers import SGD, Adam\n",
        "\n",
        "import numpy as np\n",
        "import pandas as pd\n",
        "import matplotlib.pyplot as plt"
      ],
      "execution_count": 0,
      "outputs": [
        {
          "output_type": "stream",
          "text": [
            "`%tensorflow_version` only switches the major version: `1.x` or `2.x`.\n",
            "You set: `2.x  # Colab only.`. This will be interpreted as: `2.x`.\n",
            "\n",
            "\n",
            "TensorFlow 2.x selected.\n",
            "2.0.0\n"
          ],
          "name": "stdout"
        }
      ]
    },
    {
      "cell_type": "code",
      "metadata": {
        "id": "1sejqsNdUNDW",
        "colab_type": "code",
        "colab": {}
      },
      "source": [
        "# create the data\n",
        "\n",
        "# N = number of samples\n",
        "# T = sequence length\n",
        "# D = number of input features\n",
        "# M = number of hidden units\n",
        "# K = number of output units\n",
        "\n",
        "N = 1\n",
        "T = 10\n",
        "D = 3\n",
        "K = 3\n",
        "X = np.random.randn(N, T, K)"
      ],
      "execution_count": 0,
      "outputs": []
    },
    {
      "cell_type": "code",
      "metadata": {
        "id": "Mbr90i7DU5NR",
        "colab_type": "code",
        "outputId": "0ebc1bf0-4ead-4d3a-9761-9bcc8d5e45bc",
        "colab": {
          "base_uri": "https://localhost:8080/",
          "height": 255
        }
      },
      "source": [
        "# make an rnn\n",
        "M = 5\n",
        "i = Input(shape=(T, D))\n",
        "x = SimpleRNN(M)(i)\n",
        "x = Dense(K)(x)\n",
        "\n",
        "model = Model(i, x)\n",
        "model.summary()"
      ],
      "execution_count": 0,
      "outputs": [
        {
          "output_type": "stream",
          "text": [
            "Model: \"model\"\n",
            "_________________________________________________________________\n",
            "Layer (type)                 Output Shape              Param #   \n",
            "=================================================================\n",
            "input_1 (InputLayer)         [(None, 10, 3)]           0         \n",
            "_________________________________________________________________\n",
            "simple_rnn (SimpleRNN)       (None, 5)                 45        \n",
            "_________________________________________________________________\n",
            "dense (Dense)                (None, 3)                 18        \n",
            "=================================================================\n",
            "Total params: 63\n",
            "Trainable params: 63\n",
            "Non-trainable params: 0\n",
            "_________________________________________________________________\n"
          ],
          "name": "stdout"
        }
      ]
    },
    {
      "cell_type": "code",
      "metadata": {
        "id": "ixXRh1-rVPXU",
        "colab_type": "code",
        "outputId": "5e293c18-ad4f-4fc3-d02c-2106956a4ffc",
        "colab": {
          "base_uri": "https://localhost:8080/",
          "height": 204
        }
      },
      "source": [
        "# see how weights look like at rnn layer\n",
        "model.layers[1].get_weights()"
      ],
      "execution_count": 0,
      "outputs": [
        {
          "output_type": "execute_result",
          "data": {
            "text/plain": [
              "[array([[ 0.3223037 , -0.4845738 ,  0.6530085 , -0.37492505, -0.55669856],\n",
              "        [ 0.6429983 ,  0.4588154 , -0.28153634,  0.29270667, -0.6110543 ],\n",
              "        [ 0.68853706,  0.44633645,  0.1228323 ,  0.1438412 , -0.51814234]],\n",
              "       dtype=float32),\n",
              " array([[-0.46037364, -0.3305035 , -0.02389528,  0.79504895, -0.21482556],\n",
              "        [ 0.1860227 , -0.21288691, -0.95778286,  0.00449002,  0.05202463],\n",
              "        [-0.39886698, -0.7018375 ,  0.06717698, -0.56401783, -0.16031356],\n",
              "        [-0.5370635 ,  0.574246  , -0.2609683 , -0.21936333, -0.51534426],\n",
              "        [-0.55310017,  0.15202764, -0.09728207, -0.04050634,  0.8123197 ]],\n",
              "       dtype=float32),\n",
              " array([0., 0., 0., 0., 0.], dtype=float32)]"
            ]
          },
          "metadata": {
            "tags": []
          },
          "execution_count": 4
        }
      ]
    },
    {
      "cell_type": "code",
      "metadata": {
        "id": "yIfmgNtbXtv5",
        "colab_type": "code",
        "outputId": "32e50b3e-5803-47fe-884e-11023daf96d9",
        "colab": {
          "base_uri": "https://localhost:8080/",
          "height": 136
        }
      },
      "source": [
        "# check shapes of each layer\n",
        "# first output is input > hidden\n",
        "# second output is hidden > hidden\n",
        "# third output is bias term (vector of lengh M)\n",
        "Wx, Wh, bh = model.layers[1].get_weights()\n",
        "Wo, bo = model.layers[2].get_weights()\n",
        "\n",
        "# Wx - input to hidden weight\n",
        "# Wh - hidden to hidden weight\n",
        "# bh - hidden bias\n",
        "# Wo - hidden to output weight\n",
        "# bo - output bias\n",
        "print(\"in rnn layer..\")\n",
        "print(\"Wx shape:\", Wx.shape)\n",
        "print(\"Wh shape:\", Wh.shape)\n",
        "print(\"bh shape:\", bh.shape)\n",
        "print(\"in output layer..\")\n",
        "print(\"Wo shape:\", Wo.shape)\n",
        "print(\"bo shape:\", bo.shape)"
      ],
      "execution_count": 0,
      "outputs": [
        {
          "output_type": "stream",
          "text": [
            "in rnn layer..\n",
            "Wx shape: (3, 5)\n",
            "Wh shape: (5, 5)\n",
            "bh shape: (5,)\n",
            "in output layer..\n",
            "Wo shape: (5, 3)\n",
            "bo shape: (3,)\n"
          ],
          "name": "stdout"
        }
      ]
    },
    {
      "cell_type": "markdown",
      "metadata": {
        "id": "Z_nT2H9QpG5x",
        "colab_type": "text"
      },
      "source": [
        "formula to get Yhat is as follow:\n",
        "\n",
        "![naive rnn fomula](https://drive.google.com/uc?id=1fHtVRtgycSdUM8UxYclyGzvtsoO0kDf3)"
      ]
    },
    {
      "cell_type": "code",
      "metadata": {
        "id": "XgoCpLb6gvO6",
        "colab_type": "code",
        "outputId": "ca8d3887-3a3f-46fb-a5c5-439932ef54c6",
        "colab": {
          "base_uri": "https://localhost:8080/",
          "height": 51
        }
      },
      "source": [
        "# lets code the equation above to mimic model.predict\n",
        "\n",
        "# don't have to code activation function in output layer though\n",
        "# because I didn't specify it when building the model\n",
        "\n",
        "h_last = np.zeros(M) # initial hidden state\n",
        "x = X[0]\n",
        "Yhats = []\n",
        "\n",
        "for t in range(T):\n",
        "  h = np.tanh(x[t].dot(Wx) + h_last.dot(Wh) + bh)\n",
        "  y = h.dot(Wo) + bo\n",
        "  Yhats.append(y)\n",
        "\n",
        "  h_last = h\n",
        "\n",
        "print(Yhats[-1])\n",
        "print(model.predict(X)[0])"
      ],
      "execution_count": 0,
      "outputs": [
        {
          "output_type": "stream",
          "text": [
            "[ 0.56733789 -0.3363996  -1.09093379]\n",
            "[ 0.5673379  -0.33639956 -1.0909338 ]\n"
          ],
          "name": "stdout"
        }
      ]
    }
  ]
}