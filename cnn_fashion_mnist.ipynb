{
  "nbformat": 4,
  "nbformat_minor": 0,
  "metadata": {
    "colab": {
      "name": "cnn_fashion_mnist.ipynb",
      "provenance": [],
      "include_colab_link": true
    },
    "kernelspec": {
      "name": "python3",
      "display_name": "Python 3"
    },
    "accelerator": "GPU"
  },
  "cells": [
    {
      "cell_type": "markdown",
      "metadata": {
        "id": "view-in-github",
        "colab_type": "text"
      },
      "source": [
        "<a href=\"https://colab.research.google.com/github/jonnythebard/tf2_workbook/blob/master/cnn_fashion_mnist.ipynb\" target=\"_parent\"><img src=\"https://colab.research.google.com/assets/colab-badge.svg\" alt=\"Open In Colab\"/></a>"
      ]
    },
    {
      "cell_type": "code",
      "metadata": {
        "id": "-Xa44KlnZY7N",
        "colab_type": "code",
        "outputId": "b6dfd888-5a61-4ebc-e57c-2b381824ebab",
        "colab": {
          "base_uri": "https://localhost:8080/",
          "height": 119
        }
      },
      "source": [
        "# Install Tensorflow\n",
        "# !pip install -q tensorflow-gpu==2.0.0-beta1\n",
        "try:\n",
        "  %tensorflow_version 2.x  # Colab only.\n",
        "except Exception:\n",
        "  pass\n",
        "\n",
        "import tensorflow as tf\n",
        "print(tf.__version__)"
      ],
      "execution_count": 26,
      "outputs": [
        {
          "output_type": "stream",
          "text": [
            "`%tensorflow_version` only switches the major version: `1.x` or `2.x`.\n",
            "You set: `2.x  # Colab only.`. This will be interpreted as: `2.x`.\n",
            "\n",
            "\n",
            "TensorFlow is already loaded. Please restart the runtime to change versions.\n",
            "2.0.0\n"
          ],
          "name": "stdout"
        }
      ]
    },
    {
      "cell_type": "code",
      "metadata": {
        "id": "UW04Ec0FepTA",
        "colab_type": "code",
        "colab": {}
      },
      "source": [
        "import numpy as np\n",
        "import matplotlib.pyplot as plt\n",
        "from tensorflow.keras.layers import Input, Conv2D, Dense, Flatten, Dropout, BatchNormalization, MaxPooling2D\n",
        "from tensorflow.keras.models import Model"
      ],
      "execution_count": 0,
      "outputs": []
    },
    {
      "cell_type": "code",
      "metadata": {
        "id": "wEWGLJEZfXLJ",
        "colab_type": "code",
        "outputId": "f36a0ba0-fab8-4f61-a8d9-483a3c21eb0b",
        "colab": {
          "base_uri": "https://localhost:8080/",
          "height": 34
        }
      },
      "source": [
        "# load in the data\n",
        "fashion_mnist = tf.keras.datasets.fashion_mnist\n",
        "(x_train, y_train), (x_test, y_test) = fashion_mnist.load_data()\n",
        "x_train, x_test = x_train / 255.0, x_test / 255.0\n",
        "y_train, y_test = y_train.flatten(), y_test.flatten()\n",
        "print(\"x_train.shape:\", x_train.shape)"
      ],
      "execution_count": 41,
      "outputs": [
        {
          "output_type": "stream",
          "text": [
            "x_train.shape: (60000, 28, 28)\n"
          ],
          "name": "stdout"
        }
      ]
    },
    {
      "cell_type": "code",
      "metadata": {
        "id": "xt2ZpMFliAxC",
        "colab_type": "code",
        "outputId": "fdf4fc2f-75aa-4eeb-9644-1d5f5bff4625",
        "colab": {
          "base_uri": "https://localhost:8080/",
          "height": 34
        }
      },
      "source": [
        "# the data is only 2D\n",
        "# convolution expects (height * witdh * color) shape\n",
        "x_train = np.expand_dims(x_train, -1)\n",
        "x_test = np.expand_dims(x_test, -1)\n",
        "print(x_train.shape)"
      ],
      "execution_count": 42,
      "outputs": [
        {
          "output_type": "stream",
          "text": [
            "(60000, 28, 28, 1)\n"
          ],
          "name": "stdout"
        }
      ]
    },
    {
      "cell_type": "code",
      "metadata": {
        "id": "Q85Vm6uphqma",
        "colab_type": "code",
        "outputId": "228e26e6-553e-4a46-a80b-3d6f7c84f5c3",
        "colab": {
          "base_uri": "https://localhost:8080/",
          "height": 34
        }
      },
      "source": [
        "K = len(set(y_train))\n",
        "print(\"numbrt of classes:\", K)"
      ],
      "execution_count": 43,
      "outputs": [
        {
          "output_type": "stream",
          "text": [
            "numbrt of classes: 10\n"
          ],
          "name": "stdout"
        }
      ]
    },
    {
      "cell_type": "code",
      "metadata": {
        "id": "5Lj5_v1OjHOT",
        "colab_type": "code",
        "outputId": "3e5c1646-ca42-478a-d274-28cd57b8b932",
        "colab": {
          "base_uri": "https://localhost:8080/",
          "height": 765
        }
      },
      "source": [
        "# build the model\n",
        "\n",
        "i = Input(shape=x_train[0].shape)\n",
        "x = Conv2D(filters=32, kernel_size=(3, 3), activation='relu', strides=1, padding='same', input_shape=(28,28,1))(i)\n",
        "x = BatchNormalization()(x)\n",
        "x = Conv2D(filters=32, kernel_size=(3, 3), activation='relu', strides=1, padding='same')(x)\n",
        "x = BatchNormalization()(x)\n",
        "x = Dropout(0.25)(x)\n",
        "x = Conv2D(filters=64, kernel_size=(3, 3), activation='relu', strides=1, padding='same')(x)\n",
        "x = MaxPooling2D(pool_size=(2, 2))(x)\n",
        "x = Dropout(0.25)(x)\n",
        "x = Conv2D(filters=128, kernel_size=(3, 3), activation='relu', strides=1, padding='same')(x)\n",
        "x = BatchNormalization()(x)\n",
        "x = Dropout(0.25)(x)\n",
        "x = Flatten()(x)\n",
        "x = Dense(512, activation=\"relu\")(x)\n",
        "x = Dropout(0.5)(x)\n",
        "x = Dense(128, activation=\"relu\")(x)\n",
        "x = Dropout(0.5)(x)\n",
        "x = Dense(K, activation=\"softmax\")(x)\n",
        "\n",
        "model = Model(i, x)\n",
        "model.summary()"
      ],
      "execution_count": 46,
      "outputs": [
        {
          "output_type": "stream",
          "text": [
            "Model: \"model_8\"\n",
            "_________________________________________________________________\n",
            "Layer (type)                 Output Shape              Param #   \n",
            "=================================================================\n",
            "input_9 (InputLayer)         [(None, 28, 28, 1)]       0         \n",
            "_________________________________________________________________\n",
            "conv2d_32 (Conv2D)           (None, 28, 28, 32)        320       \n",
            "_________________________________________________________________\n",
            "batch_normalization_30 (Batc (None, 28, 28, 32)        128       \n",
            "_________________________________________________________________\n",
            "conv2d_33 (Conv2D)           (None, 28, 28, 32)        9248      \n",
            "_________________________________________________________________\n",
            "batch_normalization_31 (Batc (None, 28, 28, 32)        128       \n",
            "_________________________________________________________________\n",
            "dropout_44 (Dropout)         (None, 28, 28, 32)        0         \n",
            "_________________________________________________________________\n",
            "conv2d_34 (Conv2D)           (None, 28, 28, 64)        18496     \n",
            "_________________________________________________________________\n",
            "max_pooling2d_8 (MaxPooling2 (None, 14, 14, 64)        0         \n",
            "_________________________________________________________________\n",
            "dropout_45 (Dropout)         (None, 14, 14, 64)        0         \n",
            "_________________________________________________________________\n",
            "conv2d_35 (Conv2D)           (None, 14, 14, 128)       73856     \n",
            "_________________________________________________________________\n",
            "batch_normalization_32 (Batc (None, 14, 14, 128)       512       \n",
            "_________________________________________________________________\n",
            "dropout_46 (Dropout)         (None, 14, 14, 128)       0         \n",
            "_________________________________________________________________\n",
            "flatten_8 (Flatten)          (None, 25088)             0         \n",
            "_________________________________________________________________\n",
            "dense_28 (Dense)             (None, 512)               12845568  \n",
            "_________________________________________________________________\n",
            "dropout_47 (Dropout)         (None, 512)               0         \n",
            "_________________________________________________________________\n",
            "dense_29 (Dense)             (None, 128)               65664     \n",
            "_________________________________________________________________\n",
            "dropout_48 (Dropout)         (None, 128)               0         \n",
            "_________________________________________________________________\n",
            "dense_30 (Dense)             (None, 10)                1290      \n",
            "=================================================================\n",
            "Total params: 13,015,210\n",
            "Trainable params: 13,014,826\n",
            "Non-trainable params: 384\n",
            "_________________________________________________________________\n"
          ],
          "name": "stdout"
        }
      ]
    },
    {
      "cell_type": "code",
      "metadata": {
        "id": "vExyCb2dkqDd",
        "colab_type": "code",
        "outputId": "c91a926a-adb2-4357-972e-7010c9e50a7f",
        "colab": {
          "base_uri": "https://localhost:8080/",
          "height": 1000
        }
      },
      "source": [
        "# compile and fit\n",
        "model.compile(optimizer=\"adam\", loss=\"sparse_categorical_crossentropy\", metrics=[\"accuracy\"])\n",
        "r = model.fit(x_train, y_train, validation_data=(x_test, y_test), epochs=30)"
      ],
      "execution_count": 47,
      "outputs": [
        {
          "output_type": "stream",
          "text": [
            "Train on 60000 samples, validate on 10000 samples\n",
            "Epoch 1/30\n",
            "60000/60000 [==============================] - 28s 467us/sample - loss: 0.6851 - accuracy: 0.7716 - val_loss: 0.4002 - val_accuracy: 0.8467\n",
            "Epoch 2/30\n",
            "60000/60000 [==============================] - 27s 443us/sample - loss: 0.4149 - accuracy: 0.8564 - val_loss: 0.2923 - val_accuracy: 0.8969\n",
            "Epoch 3/30\n",
            "60000/60000 [==============================] - 26s 441us/sample - loss: 0.3583 - accuracy: 0.8766 - val_loss: 0.2963 - val_accuracy: 0.8907\n",
            "Epoch 4/30\n",
            "60000/60000 [==============================] - 27s 445us/sample - loss: 0.3235 - accuracy: 0.8871 - val_loss: 0.2659 - val_accuracy: 0.9056\n",
            "Epoch 5/30\n",
            "60000/60000 [==============================] - 27s 442us/sample - loss: 0.2877 - accuracy: 0.8996 - val_loss: 0.2595 - val_accuracy: 0.9070\n",
            "Epoch 6/30\n",
            "60000/60000 [==============================] - 27s 444us/sample - loss: 0.2736 - accuracy: 0.9064 - val_loss: 0.2443 - val_accuracy: 0.9160\n",
            "Epoch 7/30\n",
            "60000/60000 [==============================] - 27s 443us/sample - loss: 0.2519 - accuracy: 0.9136 - val_loss: 0.2417 - val_accuracy: 0.9125\n",
            "Epoch 8/30\n",
            "60000/60000 [==============================] - 26s 441us/sample - loss: 0.2369 - accuracy: 0.9173 - val_loss: 0.2270 - val_accuracy: 0.9214\n",
            "Epoch 9/30\n",
            "60000/60000 [==============================] - 27s 443us/sample - loss: 0.2240 - accuracy: 0.9213 - val_loss: 0.2221 - val_accuracy: 0.9245\n",
            "Epoch 10/30\n",
            "60000/60000 [==============================] - 27s 444us/sample - loss: 0.2099 - accuracy: 0.9258 - val_loss: 0.2177 - val_accuracy: 0.9254\n",
            "Epoch 11/30\n",
            "60000/60000 [==============================] - 27s 445us/sample - loss: 0.2027 - accuracy: 0.9295 - val_loss: 0.2292 - val_accuracy: 0.9165\n",
            "Epoch 12/30\n",
            "60000/60000 [==============================] - 27s 443us/sample - loss: 0.2152 - accuracy: 0.9269 - val_loss: 0.2199 - val_accuracy: 0.9297\n",
            "Epoch 13/30\n",
            "60000/60000 [==============================] - 27s 448us/sample - loss: 0.1940 - accuracy: 0.9332 - val_loss: 0.2150 - val_accuracy: 0.9272\n",
            "Epoch 14/30\n",
            "60000/60000 [==============================] - 27s 444us/sample - loss: 0.1926 - accuracy: 0.9333 - val_loss: 0.2189 - val_accuracy: 0.9263\n",
            "Epoch 15/30\n",
            "60000/60000 [==============================] - 27s 444us/sample - loss: 0.1832 - accuracy: 0.9372 - val_loss: 0.2347 - val_accuracy: 0.9258\n",
            "Epoch 16/30\n",
            "60000/60000 [==============================] - 27s 444us/sample - loss: 0.1774 - accuracy: 0.9387 - val_loss: 0.2218 - val_accuracy: 0.9280\n",
            "Epoch 17/30\n",
            "60000/60000 [==============================] - 27s 443us/sample - loss: 0.1705 - accuracy: 0.9416 - val_loss: 0.2277 - val_accuracy: 0.9279\n",
            "Epoch 18/30\n",
            "60000/60000 [==============================] - 27s 444us/sample - loss: 0.1779 - accuracy: 0.9400 - val_loss: 0.2099 - val_accuracy: 0.9364\n",
            "Epoch 19/30\n",
            "60000/60000 [==============================] - 27s 443us/sample - loss: 0.1635 - accuracy: 0.9439 - val_loss: 0.2151 - val_accuracy: 0.9326\n",
            "Epoch 20/30\n",
            "60000/60000 [==============================] - 27s 444us/sample - loss: 0.1552 - accuracy: 0.9469 - val_loss: 0.2286 - val_accuracy: 0.9357\n",
            "Epoch 21/30\n",
            "60000/60000 [==============================] - 27s 442us/sample - loss: 0.1609 - accuracy: 0.9455 - val_loss: 0.2200 - val_accuracy: 0.9294\n",
            "Epoch 22/30\n",
            "60000/60000 [==============================] - 27s 443us/sample - loss: 0.1542 - accuracy: 0.9476 - val_loss: 0.2294 - val_accuracy: 0.9299\n",
            "Epoch 23/30\n",
            "60000/60000 [==============================] - 27s 444us/sample - loss: 0.1514 - accuracy: 0.9495 - val_loss: 0.2222 - val_accuracy: 0.9321\n",
            "Epoch 24/30\n",
            "60000/60000 [==============================] - 27s 444us/sample - loss: 0.1626 - accuracy: 0.9466 - val_loss: 0.2336 - val_accuracy: 0.9362\n",
            "Epoch 25/30\n",
            "60000/60000 [==============================] - 27s 447us/sample - loss: 0.1497 - accuracy: 0.9506 - val_loss: 0.2344 - val_accuracy: 0.9317\n",
            "Epoch 26/30\n",
            "60000/60000 [==============================] - 27s 442us/sample - loss: 0.1440 - accuracy: 0.9512 - val_loss: 0.2400 - val_accuracy: 0.9338\n",
            "Epoch 27/30\n",
            "60000/60000 [==============================] - 27s 445us/sample - loss: 0.1389 - accuracy: 0.9545 - val_loss: 0.2149 - val_accuracy: 0.9324\n",
            "Epoch 28/30\n",
            "60000/60000 [==============================] - 27s 444us/sample - loss: 0.1426 - accuracy: 0.9541 - val_loss: 0.2359 - val_accuracy: 0.9311\n",
            "Epoch 29/30\n",
            "60000/60000 [==============================] - 27s 444us/sample - loss: 0.1328 - accuracy: 0.9556 - val_loss: 0.2509 - val_accuracy: 0.9290\n",
            "Epoch 30/30\n",
            "60000/60000 [==============================] - 27s 443us/sample - loss: 0.1323 - accuracy: 0.9566 - val_loss: 0.2523 - val_accuracy: 0.9346\n"
          ],
          "name": "stdout"
        }
      ]
    },
    {
      "cell_type": "code",
      "metadata": {
        "id": "8VC7RxHKnyJD",
        "colab_type": "code",
        "outputId": "744b215c-9357-4951-f17f-880c12255f53",
        "colab": {
          "base_uri": "https://localhost:8080/",
          "height": 282
        }
      },
      "source": [
        "plt.plot(r.history[\"loss\"], label=\"loss\")\n",
        "plt.plot(r.history[\"val_loss\"], label=\"val_loss\")\n",
        "plt.legend()"
      ],
      "execution_count": 48,
      "outputs": [
        {
          "output_type": "execute_result",
          "data": {
            "text/plain": [
              "<matplotlib.legend.Legend at 0x7f2a3ef91b70>"
            ]
          },
          "metadata": {
            "tags": []
          },
          "execution_count": 48
        },
        {
          "output_type": "display_data",
          "data": {
            "image/png": "[encoded data removed]",
            "text/plain": [
              "<Figure size 432x288 with 1 Axes>"
            ]
          },
          "metadata": {
            "tags": []
          }
        }
      ]
    },
    {
      "cell_type": "code",
      "metadata": {
        "id": "jvEAL6fPoBvj",
        "colab_type": "code",
        "outputId": "863a9b41-2ca0-40ac-ea4b-610badbf6fb2",
        "colab": {
          "base_uri": "https://localhost:8080/",
          "height": 282
        }
      },
      "source": [
        "plt.plot(r.history[\"accuracy\"], label=\"accuracy\")\n",
        "plt.plot(r.history[\"val_accuracy\"], label=\"val_accuracy\")\n",
        "plt.legend()"
      ],
      "execution_count": 49,
      "outputs": [
        {
          "output_type": "execute_result",
          "data": {
            "text/plain": [
              "<matplotlib.legend.Legend at 0x7f2a41348550>"
            ]
          },
          "metadata": {
            "tags": []
          },
          "execution_count": 49
        },
        {
          "output_type": "display_data",
          "data": {
            "image/png": "[encoded data removed]",
            "text/plain": [
              "<Figure size 432x288 with 1 Axes>"
            ]
          },
          "metadata": {
            "tags": []
          }
        }
      ]
    },
    {
      "cell_type": "code",
      "metadata": {
        "id": "Rbm1ry2aH8a6",
        "colab_type": "code",
        "outputId": "1adb3e40-e367-4aef-e002-11a72a019727",
        "colab": {
          "base_uri": "https://localhost:8080/",
          "height": 498
        }
      },
      "source": [
        "# Plot confusion matrix\n",
        "from sklearn.metrics import confusion_matrix\n",
        "import itertools\n",
        "\n",
        "def plot_confusion_matrix(cm, classes,\n",
        "                          normalize=False,\n",
        "                          title='Confusion matrix',\n",
        "                          cmap=plt.cm.Blues):\n",
        "  \"\"\"\n",
        "  This function prints and plots the confusion matrix.\n",
        "  Normalization can be applied by setting `normalize=True`.\n",
        "  \"\"\"\n",
        "  if normalize:\n",
        "      cm = cm.astype('float') / cm.sum(axis=1)[:, np.newaxis]\n",
        "      print(\"Normalized confusion matrix\")\n",
        "  else:\n",
        "      print('Confusion matrix, without normalization')\n",
        "\n",
        "  print(cm)\n",
        "\n",
        "  plt.imshow(cm, interpolation='nearest', cmap=cmap)\n",
        "  plt.title(title)\n",
        "  plt.colorbar()\n",
        "  tick_marks = np.arange(len(classes))\n",
        "  plt.xticks(tick_marks, classes, rotation=45)\n",
        "  plt.yticks(tick_marks, classes)\n",
        "\n",
        "  fmt = '.2f' if normalize else 'd'\n",
        "  thresh = cm.max() / 2.\n",
        "  for i, j in itertools.product(range(cm.shape[0]), range(cm.shape[1])):\n",
        "      plt.text(j, i, format(cm[i, j], fmt),\n",
        "               horizontalalignment=\"center\",\n",
        "               color=\"white\" if cm[i, j] > thresh else \"black\")\n",
        "\n",
        "  plt.tight_layout()\n",
        "  plt.ylabel('True label')\n",
        "  plt.xlabel('Predicted label')\n",
        "  plt.show()\n",
        "\n",
        "\n",
        "p_test = model.predict(x_test).argmax(axis=1)\n",
        "cm = confusion_matrix(y_test, p_test)\n",
        "plot_confusion_matrix(cm, list(range(10)))"
      ],
      "execution_count": 50,
      "outputs": [
        {
          "output_type": "stream",
          "text": [
            "Confusion matrix, without normalization\n",
            "[[891   0  13  10   3   1  80   0   2   0]\n",
            " [  1 987   0   5   3   0   2   0   2   0]\n",
            " [ 13   2 898  10  39   0  38   0   0   0]\n",
            " [  3   2   6 944  20   0  25   0   0   0]\n",
            " [  0   0  23  21 927   0  29   0   0   0]\n",
            " [  0   0   0   0   0 985   0   9   0   6]\n",
            " [ 89   0  32  26  73   0 775   0   5   0]\n",
            " [  0   0   0   0   0   2   0 987   0  11]\n",
            " [  1   0   1   4   3   1   2   3 985   0]\n",
            " [  0   0   0   0   1   1   0  31   0 967]]\n"
          ],
          "name": "stdout"
        },
        {
          "output_type": "display_data",
          "data": {
            "image/png": "[encoded data removed]",
            "text/plain": [
              "<Figure size 432x288 with 2 Axes>"
            ]
          },
          "metadata": {
            "tags": []
          }
        }
      ]
    },
    {
      "cell_type": "code",
      "metadata": {
        "id": "VFTQ72ikIEij",
        "colab_type": "code",
        "outputId": "90181a64-0940-4d6f-8dfe-25e2378dfefd",
        "colab": {
          "base_uri": "https://localhost:8080/",
          "height": 281
        }
      },
      "source": [
        "# Label mapping\n",
        "labels = '''T-shirt/top\n",
        "Trouser\n",
        "Pullover\n",
        "Dress\n",
        "Coat\n",
        "Sandal\n",
        "Shirt\n",
        "Sneaker\n",
        "Bag\n",
        "Ankle boot'''.split(\"\\n\")\n",
        "\n",
        "# Show some misclassified examples\n",
        "misclassified_idx = np.where(p_test != y_test)[0]\n",
        "i = np.random.choice(misclassified_idx)\n",
        "plt.imshow(x_test[i].reshape(28,28), cmap='gray')\n",
        "plt.title(\"True label: %s Predicted: %s\" % (labels[y_test[i]], labels[p_test[i]]));"
      ],
      "execution_count": 51,
      "outputs": [
        {
          "output_type": "display_data",
          "data": {
            "image/png": "[encoded data removed]",
            "text/plain": [
              "<Figure size 432x288 with 1 Axes>"
            ]
          },
          "metadata": {
            "tags": []
          }
        }
      ]
    }
  ]
}