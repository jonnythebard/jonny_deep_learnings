{
  "nbformat": 4,
  "nbformat_minor": 0,
  "metadata": {
    "colab": {
      "name": "recommender_system.ipynb",
      "provenance": [],
      "include_colab_link": true
    },
    "kernelspec": {
      "name": "python3",
      "display_name": "Python 3"
    },
    "accelerator": "GPU"
  },
  "cells": [
    {
      "cell_type": "markdown",
      "metadata": {
        "id": "view-in-github",
        "colab_type": "text"
      },
      "source": [
        "<a href=\"https://colab.research.google.com/github/jonnythebard/tf2_workbook/blob/master/recommender_system.ipynb\" target=\"_parent\"><img src=\"https://colab.research.google.com/assets/colab-badge.svg\" alt=\"Open In Colab\"/></a>"
      ]
    },
    {
      "cell_type": "code",
      "metadata": {
        "id": "5RVbmawleC5e",
        "colab_type": "code",
        "outputId": "83c872c3-56fa-47e2-8680-ff6c1c9596c9",
        "colab": {
          "base_uri": "https://localhost:8080/",
          "height": 121
        }
      },
      "source": [
        "# imports\n",
        "try:\n",
        "  %tensorflow_version 2.x  # Colab only.\n",
        "except Exception:\n",
        "  pass\n",
        "\n",
        "import tensorflow as tf\n",
        "print(tf.__version__)\n",
        "\n",
        "import numpy as np\n",
        "import pandas as pd\n",
        "import matplotlib.pyplot as plt\n",
        "\n",
        "from tensorflow.keras.layers import Input, Dense, Embedding, Flatten, Concatenate, Dropout\n",
        "from tensorflow.keras.models import Model\n",
        "from tensorflow.keras.optimizers import SGD, Adam\n",
        "from sklearn.utils import shuffle"
      ],
      "execution_count": 1,
      "outputs": [
        {
          "output_type": "stream",
          "text": [
            "`%tensorflow_version` only switches the major version: `1.x` or `2.x`.\n",
            "You set: `2.x  # Colab only.`. This will be interpreted as: `2.x`.\n",
            "\n",
            "\n",
            "TensorFlow 2.x selected.\n",
            "2.1.0-rc1\n"
          ],
          "name": "stdout"
        }
      ]
    },
    {
      "cell_type": "code",
      "metadata": {
        "id": "74e1FQfCffdQ",
        "colab_type": "code",
        "outputId": "f4493eca-639f-4588-d069-7bd0666c35f6",
        "colab": {
          "base_uri": "https://localhost:8080/",
          "height": 549
        }
      },
      "source": [
        "# get the data\n",
        "!wget -nc http://files.grouplens.org/datasets/movielens/ml-20m.zip\n",
        "!unzip -n ml-20m.zip\n",
        "df = pd.read_csv(\"ml-20m/ratings.csv\")\n",
        "df.head()"
      ],
      "execution_count": 2,
      "outputs": [
        {
          "output_type": "stream",
          "text": [
            "--2019-12-17 12:11:55--  http://files.grouplens.org/datasets/movielens/ml-20m.zip\n",
            "Resolving files.grouplens.org (files.grouplens.org)... 128.101.65.152\n",
            "Connecting to files.grouplens.org (files.grouplens.org)|128.101.65.152|:80... connected.\n",
            "HTTP request sent, awaiting response... 200 OK\n",
            "Length: 198702078 (189M) [application/zip]\n",
            "Saving to: ‘ml-20m.zip’\n",
            "\n",
            "ml-20m.zip          100%[===================>] 189.50M  26.0MB/s    in 8.0s    \n",
            "\n",
            "2019-12-17 12:12:04 (23.8 MB/s) - ‘ml-20m.zip’ saved [198702078/198702078]\n",
            "\n",
            "Archive:  ml-20m.zip\n",
            "   creating: ml-20m/\n",
            "  inflating: ml-20m/genome-scores.csv  \n",
            "  inflating: ml-20m/genome-tags.csv  \n",
            "  inflating: ml-20m/links.csv        \n",
            "  inflating: ml-20m/movies.csv       \n",
            "  inflating: ml-20m/ratings.csv      \n",
            "  inflating: ml-20m/README.txt       \n",
            "  inflating: ml-20m/tags.csv         \n"
          ],
          "name": "stdout"
        },
        {
          "output_type": "execute_result",
          "data": {
            "text/html": [
              "<div>\n",
              "<style scoped>\n",
              "    .dataframe tbody tr th:only-of-type {\n",
              "        vertical-align: middle;\n",
              "    }\n",
              "\n",
              "    .dataframe tbody tr th {\n",
              "        vertical-align: top;\n",
              "    }\n",
              "\n",
              "    .dataframe thead th {\n",
              "        text-align: right;\n",
              "    }\n",
              "</style>\n",
              "<table border=\"1\" class=\"dataframe\">\n",
              "  <thead>\n",
              "    <tr style=\"text-align: right;\">\n",
              "      <th></th>\n",
              "      <th>userId</th>\n",
              "      <th>movieId</th>\n",
              "      <th>rating</th>\n",
              "      <th>timestamp</th>\n",
              "    </tr>\n",
              "  </thead>\n",
              "  <tbody>\n",
              "    <tr>\n",
              "      <th>0</th>\n",
              "      <td>1</td>\n",
              "      <td>2</td>\n",
              "      <td>3.5</td>\n",
              "      <td>1112486027</td>\n",
              "    </tr>\n",
              "    <tr>\n",
              "      <th>1</th>\n",
              "      <td>1</td>\n",
              "      <td>29</td>\n",
              "      <td>3.5</td>\n",
              "      <td>1112484676</td>\n",
              "    </tr>\n",
              "    <tr>\n",
              "      <th>2</th>\n",
              "      <td>1</td>\n",
              "      <td>32</td>\n",
              "      <td>3.5</td>\n",
              "      <td>1112484819</td>\n",
              "    </tr>\n",
              "    <tr>\n",
              "      <th>3</th>\n",
              "      <td>1</td>\n",
              "      <td>47</td>\n",
              "      <td>3.5</td>\n",
              "      <td>1112484727</td>\n",
              "    </tr>\n",
              "    <tr>\n",
              "      <th>4</th>\n",
              "      <td>1</td>\n",
              "      <td>50</td>\n",
              "      <td>3.5</td>\n",
              "      <td>1112484580</td>\n",
              "    </tr>\n",
              "  </tbody>\n",
              "</table>\n",
              "</div>"
            ],
            "text/plain": [
              "   userId  movieId  rating   timestamp\n",
              "0       1        2     3.5  1112486027\n",
              "1       1       29     3.5  1112484676\n",
              "2       1       32     3.5  1112484819\n",
              "3       1       47     3.5  1112484727\n",
              "4       1       50     3.5  1112484580"
            ]
          },
          "metadata": {
            "tags": []
          },
          "execution_count": 2
        }
      ]
    },
    {
      "cell_type": "code",
      "metadata": {
        "id": "sya5bE07iM_w",
        "colab_type": "code",
        "colab": {}
      },
      "source": [
        "# create new index for our model instead of using ids in the dataset\n",
        "# can't really trust ids in the dataset\n",
        "\n",
        "df.userId = pd.Categorical(df.userId)\n",
        "df[\"new_user_id\"] = df.userId.cat.codes\n",
        "df.movieId = pd.Categorical(df.movieId)\n",
        "df[\"new_movie_id\"] = df.movieId.cat.codes"
      ],
      "execution_count": 0,
      "outputs": []
    },
    {
      "cell_type": "code",
      "metadata": {
        "id": "xkBNoVBvjMIO",
        "colab_type": "code",
        "colab": {}
      },
      "source": [
        "# get the values from data frame objects\n",
        "\n",
        "user_ids = df[\"new_user_id\"].values\n",
        "movie_ids = df[\"new_movie_id\"].values\n",
        "ratings = df[\"rating\"].values"
      ],
      "execution_count": 0,
      "outputs": []
    },
    {
      "cell_type": "code",
      "metadata": {
        "id": "djY0otsyjhkv",
        "colab_type": "code",
        "outputId": "f606bfcb-7b63-4d0a-e9e5-c3096725e780",
        "colab": {
          "base_uri": "https://localhost:8080/",
          "height": 485
        }
      },
      "source": [
        "# build a neural network\n",
        "\n",
        "N = len(set(user_ids))\n",
        "M = len(set(movie_ids))\n",
        "K = 10 # embedding dimension\n",
        "\n",
        "# user input\n",
        "u = Input(shape=(1,))\n",
        "\n",
        "# movie input\n",
        "m = Input(shape=(1,))\n",
        "\n",
        "# user embedding\n",
        "u_emb = Embedding(N, K)(u)\n",
        "\n",
        "# movie embedding\n",
        "m_emb = Embedding(M, K)(m)\n",
        "\n",
        "# flatten both embeddings\n",
        "u_emb = Flatten()(u_emb)\n",
        "m_emb = Flatten()(m_emb)\n",
        "\n",
        "# concat two tensors\n",
        "x = Concatenate()([u_emb, m_emb])\n",
        "\n",
        "# fully connect to neurons\n",
        "x = Dense(1024, activation=\"relu\")(x)\n",
        "x = Dense(1)(x)\n",
        "\n",
        "model = Model(inputs=[u, m], outputs=x)\n",
        "model.compile(loss=\"mse\", optimizer=SGD(lr=0.08, momentum=0.9))\n",
        "model.summary()"
      ],
      "execution_count": 5,
      "outputs": [
        {
          "output_type": "stream",
          "text": [
            "Model: \"model\"\n",
            "__________________________________________________________________________________________________\n",
            "Layer (type)                    Output Shape         Param #     Connected to                     \n",
            "==================================================================================================\n",
            "input_1 (InputLayer)            [(None, 1)]          0                                            \n",
            "__________________________________________________________________________________________________\n",
            "input_2 (InputLayer)            [(None, 1)]          0                                            \n",
            "__________________________________________________________________________________________________\n",
            "embedding (Embedding)           (None, 1, 10)        1384930     input_1[0][0]                    \n",
            "__________________________________________________________________________________________________\n",
            "embedding_1 (Embedding)         (None, 1, 10)        267440      input_2[0][0]                    \n",
            "__________________________________________________________________________________________________\n",
            "flatten (Flatten)               (None, 10)           0           embedding[0][0]                  \n",
            "__________________________________________________________________________________________________\n",
            "flatten_1 (Flatten)             (None, 10)           0           embedding_1[0][0]                \n",
            "__________________________________________________________________________________________________\n",
            "concatenate (Concatenate)       (None, 20)           0           flatten[0][0]                    \n",
            "                                                                 flatten_1[0][0]                  \n",
            "__________________________________________________________________________________________________\n",
            "dense (Dense)                   (None, 1024)         21504       concatenate[0][0]                \n",
            "__________________________________________________________________________________________________\n",
            "dense_1 (Dense)                 (None, 1)            1025        dense[0][0]                      \n",
            "==================================================================================================\n",
            "Total params: 1,674,899\n",
            "Trainable params: 1,674,899\n",
            "Non-trainable params: 0\n",
            "__________________________________________________________________________________________________\n"
          ],
          "name": "stdout"
        }
      ]
    },
    {
      "cell_type": "code",
      "metadata": {
        "id": "7MrnrXzCrezM",
        "colab_type": "code",
        "colab": {}
      },
      "source": [
        "# split the data\n",
        "user_ids, movie_ids, ratings = shuffle(user_ids,  movie_ids, ratings)\n",
        "Ntrain = int(0.8 * len(ratings))\n",
        "train_user = user_ids[:Ntrain]\n",
        "train_movie = movie_ids[:Ntrain]\n",
        "train_ratings = ratings[:Ntrain]\n",
        "\n",
        "test_user = user_ids[Ntrain:]\n",
        "test_movie = movie_ids[Ntrain:]\n",
        "test_ratings = ratings[Ntrain:]\n",
        "\n",
        "# center the ratings\n",
        "avg_ratings = train_ratings.mean()\n",
        "train_ratings = train_ratings - avg_ratings\n",
        "test_ratings = test_ratings - avg_ratings"
      ],
      "execution_count": 0,
      "outputs": []
    },
    {
      "cell_type": "code",
      "metadata": {
        "id": "ijrruhqFsyG0",
        "colab_type": "code",
        "outputId": "91ad8e59-d48d-48ee-c2cd-4de57584df94",
        "colab": {
          "base_uri": "https://localhost:8080/",
          "height": 901
        }
      },
      "source": [
        "# train the model\n",
        "param_kwargs = {\n",
        "    \"x\": [train_user, train_movie],\n",
        "    \"y\": train_ratings,\n",
        "    \"epochs\": 25,\n",
        "    \"batch_size\": 1024,\n",
        "    \"validation_data\": ([test_user, test_movie], test_ratings)\n",
        "}\n",
        "r = model.fit(**param_kwargs)"
      ],
      "execution_count": 7,
      "outputs": [
        {
          "output_type": "stream",
          "text": [
            "Train on 16000210 samples, validate on 4000053 samples\n",
            "Epoch 1/25\n",
            "16000210/16000210 [==============================] - 72s 4us/sample - loss: 0.7784 - val_loss: 0.7302\n",
            "Epoch 2/25\n",
            "16000210/16000210 [==============================] - 68s 4us/sample - loss: 0.7024 - val_loss: 0.6984\n",
            "Epoch 3/25\n",
            "16000210/16000210 [==============================] - 69s 4us/sample - loss: 0.6789 - val_loss: 0.6909\n",
            "Epoch 4/25\n",
            "16000210/16000210 [==============================] - 69s 4us/sample - loss: 0.6628 - val_loss: 0.6750\n",
            "Epoch 5/25\n",
            "16000210/16000210 [==============================] - 69s 4us/sample - loss: 0.6519 - val_loss: 0.6689\n",
            "Epoch 6/25\n",
            "16000210/16000210 [==============================] - 69s 4us/sample - loss: 0.6396 - val_loss: 0.6639\n",
            "Epoch 7/25\n",
            "16000210/16000210 [==============================] - 69s 4us/sample - loss: 0.6245 - val_loss: 0.6506\n",
            "Epoch 8/25\n",
            "16000210/16000210 [==============================] - 69s 4us/sample - loss: 0.6101 - val_loss: 0.6436\n",
            "Epoch 9/25\n",
            "16000210/16000210 [==============================] - 69s 4us/sample - loss: 0.6000 - val_loss: 0.6412\n",
            "Epoch 10/25\n",
            "16000210/16000210 [==============================] - 69s 4us/sample - loss: 0.5916 - val_loss: 0.6392\n",
            "Epoch 11/25\n",
            "16000210/16000210 [==============================] - 68s 4us/sample - loss: 0.5834 - val_loss: 0.6335\n",
            "Epoch 12/25\n",
            "16000210/16000210 [==============================] - 68s 4us/sample - loss: 0.5752 - val_loss: 0.6306\n",
            "Epoch 13/25\n",
            "16000210/16000210 [==============================] - 68s 4us/sample - loss: 0.5678 - val_loss: 0.6299\n",
            "Epoch 14/25\n",
            "16000210/16000210 [==============================] - 69s 4us/sample - loss: 0.5612 - val_loss: 0.6283\n",
            "Epoch 15/25\n",
            "16000210/16000210 [==============================] - 68s 4us/sample - loss: 0.5559 - val_loss: 0.6317\n",
            "Epoch 16/25\n",
            "16000210/16000210 [==============================] - 67s 4us/sample - loss: 0.5514 - val_loss: 0.6251\n",
            "Epoch 17/25\n",
            "16000210/16000210 [==============================] - 68s 4us/sample - loss: 0.5475 - val_loss: 0.6257\n",
            "Epoch 18/25\n",
            "16000210/16000210 [==============================] - 68s 4us/sample - loss: 0.5444 - val_loss: 0.6269\n",
            "Epoch 19/25\n",
            "16000210/16000210 [==============================] - 68s 4us/sample - loss: 0.5416 - val_loss: 0.6294\n",
            "Epoch 20/25\n",
            "16000210/16000210 [==============================] - 67s 4us/sample - loss: 0.5391 - val_loss: 0.6244\n",
            "Epoch 21/25\n",
            "16000210/16000210 [==============================] - 67s 4us/sample - loss: 0.5369 - val_loss: 0.6276\n",
            "Epoch 22/25\n",
            "16000210/16000210 [==============================] - 67s 4us/sample - loss: 0.5351 - val_loss: 0.6251\n",
            "Epoch 23/25\n",
            "16000210/16000210 [==============================] - 67s 4us/sample - loss: 0.5332 - val_loss: 0.6257\n",
            "Epoch 24/25\n",
            "16000210/16000210 [==============================] - 68s 4us/sample - loss: 0.5317 - val_loss: 0.6275\n",
            "Epoch 25/25\n",
            "16000210/16000210 [==============================] - 66s 4us/sample - loss: 0.5300 - val_loss: 0.6259\n"
          ],
          "name": "stdout"
        }
      ]
    },
    {
      "cell_type": "code",
      "metadata": {
        "id": "XmPTx5FP4fU-",
        "colab_type": "code",
        "outputId": "e88fd986-9a30-4201-9924-8c782eac42a5",
        "colab": {
          "base_uri": "https://localhost:8080/",
          "height": 283
        }
      },
      "source": [
        "plt.plot(r.history[\"loss\"], label=\"loss\")\n",
        "plt.plot(r.history[\"val_loss\"], label=\"val_loss\")\n",
        "plt.legend()"
      ],
      "execution_count": 8,
      "outputs": [
        {
          "output_type": "execute_result",
          "data": {
            "text/plain": [
              "<matplotlib.legend.Legend at 0x7fe58030f390>"
            ]
          },
          "metadata": {
            "tags": []
          },
          "execution_count": 8
        },
        {
          "output_type": "display_data",
          "data": {
            "image/png": "[encoded data removed]",
            "text/plain": [
              "<Figure size 432x288 with 1 Axes>"
            ]
          },
          "metadata": {
            "tags": []
          }
        }
      ]
    }
  ]
}