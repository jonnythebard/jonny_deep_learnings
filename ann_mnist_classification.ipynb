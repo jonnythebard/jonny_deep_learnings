{
  "nbformat": 4,
  "nbformat_minor": 0,
  "metadata": {
    "colab": {
      "name": "ann_mnist_classification.ipynb",
      "provenance": [],
      "include_colab_link": true
    },
    "kernelspec": {
      "name": "python3",
      "display_name": "Python 3"
    }
  },
  "cells": [
    {
      "cell_type": "markdown",
      "metadata": {
        "id": "view-in-github",
        "colab_type": "text"
      },
      "source": [
        "<a href=\"https://colab.research.google.com/github/jonnythebard/tf2_workbook/blob/master/ann_mnist_classification.ipynb\" target=\"_parent\"><img src=\"https://colab.research.google.com/assets/colab-badge.svg\" alt=\"Open In Colab\"/></a>"
      ]
    },
    {
      "cell_type": "code",
      "metadata": {
        "id": "DfbwUPqN4K6i",
        "colab_type": "code",
        "outputId": "b9f560eb-4b3c-4fa3-8313-ba307f0ef41d",
        "colab": {
          "base_uri": "https://localhost:8080/",
          "height": 34
        }
      },
      "source": [
        "# Install Tensorflow\n",
        "!pip install -q tensorflow==2.0.0-beta1\n",
        "import tensorflow as tf\n",
        "print(tf.__version__)"
      ],
      "execution_count": 0,
      "outputs": [
        {
          "output_type": "stream",
          "text": [
            "2.0.0-beta1\n"
          ],
          "name": "stdout"
        }
      ]
    },
    {
      "cell_type": "code",
      "metadata": {
        "id": "zwfy_oUW4vfN",
        "colab_type": "code",
        "outputId": "3bbc4641-f0b9-4b92-8784-c1d9f2016d11",
        "colab": {
          "base_uri": "https://localhost:8080/",
          "height": 34
        }
      },
      "source": [
        "# load in the data\n",
        "mnist = tf.keras.datasets.mnist\n",
        "(X_train, y_train), (X_test, y_test) = mnist.load_data()\n",
        "X_train, X_test = X_train / 255.0, X_test / 255.0 # normalize values to 0~1\n",
        "print(\"X_train.shape:\", X_train.shape)"
      ],
      "execution_count": 0,
      "outputs": [
        {
          "output_type": "stream",
          "text": [
            "X_train.shape: (60000, 28, 28)\n"
          ],
          "name": "stdout"
        }
      ]
    },
    {
      "cell_type": "code",
      "metadata": {
        "id": "t5qPFDo25TSM",
        "colab_type": "code",
        "colab": {}
      },
      "source": [
        "# build the model\n",
        "model = tf.keras.models.Sequential([\n",
        "  tf.keras.layers.Flatten(input_shape=(28, 28)),\n",
        "  tf.keras.layers.Dense(128, activation=\"relu\"),\n",
        "  tf.keras.layers.Dropout(0.2),\n",
        "  tf.keras.layers.Dense(10, activation=\"softmax\"),\n",
        "])"
      ],
      "execution_count": 0,
      "outputs": []
    },
    {
      "cell_type": "code",
      "metadata": {
        "id": "jO85T_lw6TnE",
        "colab_type": "code",
        "colab": {}
      },
      "source": [
        "# compile the model\n",
        "model.compile(optimizer=\"adam\", loss=\"sparse_categorical_crossentropy\", metrics=[\"accuracy\"])"
      ],
      "execution_count": 0,
      "outputs": []
    },
    {
      "cell_type": "code",
      "metadata": {
        "id": "vUfQVOq96jAo",
        "colab_type": "code",
        "outputId": "dff613ae-e3f6-4768-c2fb-862c8139ed10",
        "colab": {
          "base_uri": "https://localhost:8080/",
          "height": 394
        }
      },
      "source": [
        "# train the model\n",
        "r = model.fit(X_train, y_train, validation_data=(X_test, y_test), epochs=10)"
      ],
      "execution_count": 0,
      "outputs": [
        {
          "output_type": "stream",
          "text": [
            "Train on 60000 samples, validate on 10000 samples\n",
            "Epoch 1/10\n",
            "60000/60000 [==============================] - 6s 106us/sample - loss: 0.2960 - accuracy: 0.9143 - val_loss: 0.1361 - val_accuracy: 0.9596\n",
            "Epoch 2/10\n",
            "60000/60000 [==============================] - 6s 105us/sample - loss: 0.1446 - accuracy: 0.9568 - val_loss: 0.1052 - val_accuracy: 0.9689\n",
            "Epoch 3/10\n",
            "60000/60000 [==============================] - 6s 98us/sample - loss: 0.1065 - accuracy: 0.9678 - val_loss: 0.0892 - val_accuracy: 0.9728\n",
            "Epoch 4/10\n",
            "60000/60000 [==============================] - 6s 104us/sample - loss: 0.0886 - accuracy: 0.9729 - val_loss: 0.0790 - val_accuracy: 0.9758\n",
            "Epoch 5/10\n",
            "60000/60000 [==============================] - 6s 108us/sample - loss: 0.0739 - accuracy: 0.9773 - val_loss: 0.0697 - val_accuracy: 0.9784\n",
            "Epoch 6/10\n",
            "60000/60000 [==============================] - 6s 105us/sample - loss: 0.0656 - accuracy: 0.9792 - val_loss: 0.0649 - val_accuracy: 0.9805\n",
            "Epoch 7/10\n",
            "60000/60000 [==============================] - 7s 109us/sample - loss: 0.0564 - accuracy: 0.9817 - val_loss: 0.0733 - val_accuracy: 0.9782\n",
            "Epoch 8/10\n",
            "60000/60000 [==============================] - 7s 111us/sample - loss: 0.0513 - accuracy: 0.9832 - val_loss: 0.0693 - val_accuracy: 0.9801\n",
            "Epoch 9/10\n",
            "60000/60000 [==============================] - 6s 106us/sample - loss: 0.0469 - accuracy: 0.9848 - val_loss: 0.0694 - val_accuracy: 0.9800\n",
            "Epoch 10/10\n",
            "60000/60000 [==============================] - 6s 106us/sample - loss: 0.0454 - accuracy: 0.9848 - val_loss: 0.0679 - val_accuracy: 0.9806\n"
          ],
          "name": "stdout"
        }
      ]
    },
    {
      "cell_type": "code",
      "metadata": {
        "id": "hqO1yJqP7GhK",
        "colab_type": "code",
        "outputId": "015be29d-7fa5-479f-d222-99b6e462a80b",
        "colab": {
          "base_uri": "https://localhost:8080/",
          "height": 282
        }
      },
      "source": [
        "# plot loss per iteration\n",
        "import matplotlib.pyplot as plt\n",
        "plt.plot(r.history[\"loss\"], label=\"loss\")\n",
        "plt.plot(r.history[\"val_loss\"], label=\"val_loss\")\n",
        "plt.legend()"
      ],
      "execution_count": 0,
      "outputs": [
        {
          "output_type": "execute_result",
          "data": {
            "text/plain": [
              "<matplotlib.legend.Legend at 0x7efc2bf3d5c0>"
            ]
          },
          "metadata": {
            "tags": []
          },
          "execution_count": 21
        },
        {
          "output_type": "display_data",
          "data": {
            "image/png": "[encoded data removed]",
            "text/plain": [
              "<Figure size 432x288 with 1 Axes>"
            ]
          },
          "metadata": {
            "tags": []
          }
        }
      ]
    },
    {
      "cell_type": "code",
      "metadata": {
        "id": "2wbuP0-k7alP",
        "colab_type": "code",
        "outputId": "7face1f1-c74a-4c44-fd98-59aec9a8915f",
        "colab": {
          "base_uri": "https://localhost:8080/",
          "height": 282
        }
      },
      "source": [
        "# plot accuracy per iteration\n",
        "plt.plot(r.history[\"accuracy\"], label=\"accuracy\")\n",
        "plt.plot(r.history[\"val_accuracy\"], label=\"val_accuracy\")\n",
        "plt.legend()"
      ],
      "execution_count": 0,
      "outputs": [
        {
          "output_type": "execute_result",
          "data": {
            "text/plain": [
              "<matplotlib.legend.Legend at 0x7efc2beab278>"
            ]
          },
          "metadata": {
            "tags": []
          },
          "execution_count": 22
        },
        {
          "output_type": "display_data",
          "data": {
            "image/png": "[encoded data removed]",
            "text/plain": [
              "<Figure size 432x288 with 1 Axes>"
            ]
          },
          "metadata": {
            "tags": []
          }
        }
      ]
    },
    {
      "cell_type": "code",
      "metadata": {
        "id": "xq1rfepg9c39",
        "colab_type": "code",
        "outputId": "7eb2f1b0-ef54-456e-ca11-d3e1765ef2ae",
        "colab": {
          "base_uri": "https://localhost:8080/",
          "height": 51
        }
      },
      "source": [
        "# evaluate the model\n",
        "print(model.evaluate(X_test, y_test))"
      ],
      "execution_count": 0,
      "outputs": [
        {
          "output_type": "stream",
          "text": [
            "10000/10000 [==============================] - 0s 39us/sample - loss: 0.0679 - accuracy: 0.9806\n",
            "[0.06785037923682248, 0.9806]\n"
          ],
          "name": "stdout"
        }
      ]
    }
  ]
}