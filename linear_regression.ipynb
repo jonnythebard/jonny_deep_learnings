{
  "nbformat": 4,
  "nbformat_minor": 0,
  "metadata": {
    "colab": {
      "name": "linear_regression.ipynb",
      "provenance": [],
      "include_colab_link": true
    },
    "kernelspec": {
      "name": "python3",
      "display_name": "Python 3"
    }
  },
  "cells": [
    {
      "cell_type": "markdown",
      "metadata": {
        "id": "view-in-github",
        "colab_type": "text"
      },
      "source": [
        "<a href=\"https://colab.research.google.com/github/jonnythebard/tf2_workbook/blob/master/linear_regression.ipynb\" target=\"_parent\"><img src=\"https://colab.research.google.com/assets/colab-badge.svg\" alt=\"Open In Colab\"/></a>"
      ]
    },
    {
      "cell_type": "code",
      "metadata": {
        "id": "4C7dNys1ip9L",
        "colab_type": "code",
        "outputId": "5ee3d4c4-8762-481b-af13-84056489044b",
        "colab": {
          "base_uri": "https://localhost:8080/",
          "height": 34
        }
      },
      "source": [
        "# Install Tensorflow\n",
        "!pip install -q tensorflow==2.0.0-beta1\n",
        "import tensorflow as tf\n",
        "print(tf.__version__)"
      ],
      "execution_count": 0,
      "outputs": [
        {
          "output_type": "stream",
          "text": [
            "2.0.0-beta1\n"
          ],
          "name": "stdout"
        }
      ]
    },
    {
      "cell_type": "code",
      "metadata": {
        "id": "7nneI63xkHV0",
        "colab_type": "code",
        "colab": {}
      },
      "source": [
        "import pandas as pd\n",
        "import numpy as np\n",
        "import matplotlib.pyplot as plt"
      ],
      "execution_count": 0,
      "outputs": []
    },
    {
      "cell_type": "code",
      "metadata": {
        "id": "2EEUWXvvkSd9",
        "colab_type": "code",
        "outputId": "a7139aeb-94be-4b64-e5c8-14cfbb6d6b95",
        "colab": {
          "base_uri": "https://localhost:8080/",
          "height": 204
        }
      },
      "source": [
        "# get the data\n",
        "!wget https://raw.githubusercontent.com/lazyprogrammer/machine_learning_examples/master/tf2.0/moore.csv"
      ],
      "execution_count": 0,
      "outputs": [
        {
          "output_type": "stream",
          "text": [
            "--2019-12-04 06:22:33--  https://raw.githubusercontent.com/lazyprogrammer/machine_learning_examples/master/tf2.0/moore.csv\n",
            "Resolving raw.githubusercontent.com (raw.githubusercontent.com)... 151.101.0.133, 151.101.64.133, 151.101.128.133, ...\n",
            "Connecting to raw.githubusercontent.com (raw.githubusercontent.com)|151.101.0.133|:443... connected.\n",
            "HTTP request sent, awaiting response... 200 OK\n",
            "Length: 2302 (2.2K) [text/plain]\n",
            "Saving to: ‘moore.csv’\n",
            "\n",
            "\rmoore.csv             0%[                    ]       0  --.-KB/s               \rmoore.csv           100%[===================>]   2.25K  --.-KB/s    in 0s      \n",
            "\n",
            "2019-12-04 06:22:33 (46.4 MB/s) - ‘moore.csv’ saved [2302/2302]\n",
            "\n"
          ],
          "name": "stdout"
        }
      ]
    },
    {
      "cell_type": "code",
      "metadata": {
        "id": "5v0VxP5xkzZj",
        "colab_type": "code",
        "colab": {}
      },
      "source": [
        "# load in the data\n",
        "data = pd.read_csv(\"moore.csv\", header=None).values\n",
        "X = data[:,0].reshape(-1, 1)\n",
        "Y = data[:,1]"
      ],
      "execution_count": 0,
      "outputs": []
    },
    {
      "cell_type": "code",
      "metadata": {
        "id": "sJMsiNsrlMgj",
        "colab_type": "code",
        "outputId": "66ed46fe-f30c-439a-b03a-fc0e158ee296",
        "colab": {
          "base_uri": "https://localhost:8080/",
          "height": 293
        }
      },
      "source": [
        "# plot the data\n",
        "plt.scatter(X, Y)"
      ],
      "execution_count": 0,
      "outputs": [
        {
          "output_type": "execute_result",
          "data": {
            "text/plain": [
              "<matplotlib.collections.PathCollection at 0x7fa5b33bab00>"
            ]
          },
          "metadata": {
            "tags": []
          },
          "execution_count": 7
        },
        {
          "output_type": "display_data",
          "data": {
            "image/png": "[encoded data removed]",
            "text/plain": [
              "<Figure size 432x288 with 1 Axes>"
            ]
          },
          "metadata": {
            "tags": []
          }
        }
      ]
    },
    {
      "cell_type": "code",
      "metadata": {
        "id": "yjSRS2ZQmb_X",
        "colab_type": "code",
        "outputId": "0c2bd7a2-2558-4aee-bd45-114f156e84ee",
        "colab": {
          "base_uri": "https://localhost:8080/",
          "height": 282
        }
      },
      "source": [
        "# take the log to the data to make it linear\n",
        "Y = np.log(Y)\n",
        "plt.scatter(X, Y)"
      ],
      "execution_count": 0,
      "outputs": [
        {
          "output_type": "execute_result",
          "data": {
            "text/plain": [
              "<matplotlib.collections.PathCollection at 0x7fa5b0d20828>"
            ]
          },
          "metadata": {
            "tags": []
          },
          "execution_count": 8
        },
        {
          "output_type": "display_data",
          "data": {
            "image/png": "[encoded data removed]",
            "text/plain": [
              "<Figure size 432x288 with 1 Axes>"
            ]
          },
          "metadata": {
            "tags": []
          }
        }
      ]
    },
    {
      "cell_type": "code",
      "metadata": {
        "id": "fv3buQyEm5CX",
        "colab_type": "code",
        "colab": {}
      },
      "source": [
        "# center the X data so that the values are not too large\n",
        "# could do scaling, but data needs to be reversed back to original values later.\n",
        "X = X - X.mean()"
      ],
      "execution_count": 0,
      "outputs": []
    },
    {
      "cell_type": "code",
      "metadata": {
        "id": "1DzkZP8aonQL",
        "colab_type": "code",
        "outputId": "3881dd62-6353-41d7-de36-3ebb4d1858ea",
        "colab": {
          "base_uri": "https://localhost:8080/",
          "height": 1000
        }
      },
      "source": [
        "# build the model\n",
        "model = tf.keras.models.Sequential([\n",
        "  tf.keras.layers.Input(shape=(1,)),\n",
        "  tf.keras.layers.Dense(1)\n",
        "])\n",
        "\n",
        "model.compile(optimizer=tf.keras.optimizers.SGD(learning_rate=0.001, momentum=0.9), loss=\"mse\")\n",
        "\n",
        "# learning rate scheduler\n",
        "def schedule(epoch, lr):\n",
        "  if epoch >= 50:\n",
        "    return 0.0001\n",
        "  return 0.001\n",
        "\n",
        "scheduler = tf.keras.callbacks.LearningRateScheduler(schedule)\n",
        "\n",
        "# train the model\n",
        "r = model.fit(X, Y, epochs=200, callbacks=[scheduler])"
      ],
      "execution_count": 0,
      "outputs": [
        {
          "output_type": "stream",
          "text": [
            "Train on 162 samples\n",
            "Epoch 1/200\n",
            "162/162 [==============================] - 0s 484us/sample - loss: 358.5643\n",
            "Epoch 2/200\n",
            "162/162 [==============================] - 0s 77us/sample - loss: 584.6760\n",
            "Epoch 3/200\n",
            "162/162 [==============================] - 0s 67us/sample - loss: 282.8847\n",
            "Epoch 4/200\n",
            "162/162 [==============================] - 0s 62us/sample - loss: 200.4677\n",
            "Epoch 5/200\n",
            "162/162 [==============================] - 0s 57us/sample - loss: 144.6382\n",
            "Epoch 6/200\n",
            "162/162 [==============================] - 0s 51us/sample - loss: 135.4541\n",
            "Epoch 7/200\n",
            "162/162 [==============================] - 0s 48us/sample - loss: 114.9627\n",
            "Epoch 8/200\n",
            "162/162 [==============================] - 0s 46us/sample - loss: 81.4380\n",
            "Epoch 9/200\n",
            "162/162 [==============================] - 0s 46us/sample - loss: 53.3803\n",
            "Epoch 10/200\n",
            "162/162 [==============================] - 0s 45us/sample - loss: 32.6262\n",
            "Epoch 11/200\n",
            "162/162 [==============================] - 0s 47us/sample - loss: 24.8107\n",
            "Epoch 12/200\n",
            "162/162 [==============================] - 0s 46us/sample - loss: 18.0943\n",
            "Epoch 13/200\n",
            "162/162 [==============================] - 0s 46us/sample - loss: 13.3377\n",
            "Epoch 14/200\n",
            "162/162 [==============================] - 0s 46us/sample - loss: 10.6188\n",
            "Epoch 15/200\n",
            "162/162 [==============================] - 0s 48us/sample - loss: 8.2229\n",
            "Epoch 16/200\n",
            "162/162 [==============================] - 0s 48us/sample - loss: 5.6041\n",
            "Epoch 17/200\n",
            "162/162 [==============================] - 0s 54us/sample - loss: 5.0304\n",
            "Epoch 18/200\n",
            "162/162 [==============================] - 0s 49us/sample - loss: 3.8171\n",
            "Epoch 19/200\n",
            "162/162 [==============================] - 0s 48us/sample - loss: 3.5521\n",
            "Epoch 20/200\n",
            "162/162 [==============================] - 0s 48us/sample - loss: 2.4166\n",
            "Epoch 21/200\n",
            "162/162 [==============================] - 0s 62us/sample - loss: 1.9131\n",
            "Epoch 22/200\n",
            "162/162 [==============================] - 0s 53us/sample - loss: 1.7843\n",
            "Epoch 23/200\n",
            "162/162 [==============================] - 0s 52us/sample - loss: 1.4285\n",
            "Epoch 24/200\n",
            "162/162 [==============================] - 0s 60us/sample - loss: 1.2383\n",
            "Epoch 25/200\n",
            "162/162 [==============================] - 0s 82us/sample - loss: 1.1811\n",
            "Epoch 26/200\n",
            "162/162 [==============================] - 0s 68us/sample - loss: 1.0845\n",
            "Epoch 27/200\n",
            "162/162 [==============================] - 0s 63us/sample - loss: 1.3575\n",
            "Epoch 28/200\n",
            "162/162 [==============================] - 0s 80us/sample - loss: 1.3388\n",
            "Epoch 29/200\n",
            "162/162 [==============================] - 0s 64us/sample - loss: 1.2375\n",
            "Epoch 30/200\n",
            "162/162 [==============================] - 0s 66us/sample - loss: 1.1336\n",
            "Epoch 31/200\n",
            "162/162 [==============================] - 0s 59us/sample - loss: 0.9370\n",
            "Epoch 32/200\n",
            "162/162 [==============================] - 0s 54us/sample - loss: 0.9025\n",
            "Epoch 33/200\n",
            "162/162 [==============================] - 0s 78us/sample - loss: 0.8960\n",
            "Epoch 34/200\n",
            "162/162 [==============================] - 0s 56us/sample - loss: 0.8973\n",
            "Epoch 35/200\n",
            "162/162 [==============================] - 0s 60us/sample - loss: 1.5881\n",
            "Epoch 36/200\n",
            "162/162 [==============================] - 0s 72us/sample - loss: 1.1317\n",
            "Epoch 37/200\n",
            "162/162 [==============================] - 0s 75us/sample - loss: 0.9544\n",
            "Epoch 38/200\n",
            "162/162 [==============================] - 0s 95us/sample - loss: 1.0378\n",
            "Epoch 39/200\n",
            "162/162 [==============================] - 0s 69us/sample - loss: 1.0234\n",
            "Epoch 40/200\n",
            "162/162 [==============================] - 0s 62us/sample - loss: 1.1866\n",
            "Epoch 41/200\n",
            "162/162 [==============================] - 0s 80us/sample - loss: 1.2897\n",
            "Epoch 42/200\n",
            "162/162 [==============================] - 0s 57us/sample - loss: 1.2286\n",
            "Epoch 43/200\n",
            "162/162 [==============================] - 0s 52us/sample - loss: 1.0495\n",
            "Epoch 44/200\n",
            "162/162 [==============================] - 0s 58us/sample - loss: 1.0332\n",
            "Epoch 45/200\n",
            "162/162 [==============================] - 0s 64us/sample - loss: 0.8980\n",
            "Epoch 46/200\n",
            "162/162 [==============================] - 0s 63us/sample - loss: 0.9057\n",
            "Epoch 47/200\n",
            "162/162 [==============================] - 0s 64us/sample - loss: 0.9141\n",
            "Epoch 48/200\n",
            "162/162 [==============================] - 0s 66us/sample - loss: 0.9048\n",
            "Epoch 49/200\n",
            "162/162 [==============================] - 0s 61us/sample - loss: 0.9542\n",
            "Epoch 50/200\n",
            "162/162 [==============================] - 0s 67us/sample - loss: 0.9954\n",
            "Epoch 51/200\n",
            "162/162 [==============================] - 0s 67us/sample - loss: 2.4297\n",
            "Epoch 52/200\n",
            "162/162 [==============================] - 0s 65us/sample - loss: 2.4827\n",
            "Epoch 53/200\n",
            "162/162 [==============================] - 0s 71us/sample - loss: 0.9304\n",
            "Epoch 54/200\n",
            "162/162 [==============================] - 0s 59us/sample - loss: 1.1230\n",
            "Epoch 55/200\n",
            "162/162 [==============================] - 0s 57us/sample - loss: 1.1219\n",
            "Epoch 56/200\n",
            "162/162 [==============================] - 0s 101us/sample - loss: 0.8819\n",
            "Epoch 57/200\n",
            "162/162 [==============================] - 0s 52us/sample - loss: 0.9152\n",
            "Epoch 58/200\n",
            "162/162 [==============================] - 0s 61us/sample - loss: 0.9254\n",
            "Epoch 59/200\n",
            "162/162 [==============================] - 0s 74us/sample - loss: 0.8735\n",
            "Epoch 60/200\n",
            "162/162 [==============================] - 0s 64us/sample - loss: 0.8769\n",
            "Epoch 61/200\n",
            "162/162 [==============================] - 0s 65us/sample - loss: 0.8734\n",
            "Epoch 62/200\n",
            "162/162 [==============================] - 0s 67us/sample - loss: 0.8724\n",
            "Epoch 63/200\n",
            "162/162 [==============================] - 0s 66us/sample - loss: 0.8759\n",
            "Epoch 64/200\n",
            "162/162 [==============================] - 0s 64us/sample - loss: 0.8731\n",
            "Epoch 65/200\n",
            "162/162 [==============================] - 0s 105us/sample - loss: 0.8706\n",
            "Epoch 66/200\n",
            "162/162 [==============================] - 0s 74us/sample - loss: 0.8741\n",
            "Epoch 67/200\n",
            "162/162 [==============================] - 0s 78us/sample - loss: 0.8696\n",
            "Epoch 68/200\n",
            "162/162 [==============================] - 0s 65us/sample - loss: 0.8993\n",
            "Epoch 69/200\n",
            "162/162 [==============================] - 0s 62us/sample - loss: 0.9256\n",
            "Epoch 70/200\n",
            "162/162 [==============================] - 0s 59us/sample - loss: 0.8986\n",
            "Epoch 71/200\n",
            "162/162 [==============================] - 0s 48us/sample - loss: 0.8745\n",
            "Epoch 72/200\n",
            "162/162 [==============================] - 0s 56us/sample - loss: 0.9159\n",
            "Epoch 73/200\n",
            "162/162 [==============================] - 0s 61us/sample - loss: 0.9018\n",
            "Epoch 74/200\n",
            "162/162 [==============================] - 0s 69us/sample - loss: 0.8774\n",
            "Epoch 75/200\n",
            "162/162 [==============================] - 0s 51us/sample - loss: 0.8822\n",
            "Epoch 76/200\n",
            "162/162 [==============================] - 0s 58us/sample - loss: 0.8946\n",
            "Epoch 77/200\n",
            "162/162 [==============================] - 0s 61us/sample - loss: 0.8723\n",
            "Epoch 78/200\n",
            "162/162 [==============================] - 0s 59us/sample - loss: 0.8806\n",
            "Epoch 79/200\n",
            "162/162 [==============================] - 0s 67us/sample - loss: 0.8793\n",
            "Epoch 80/200\n",
            "162/162 [==============================] - 0s 58us/sample - loss: 0.8684\n",
            "Epoch 81/200\n",
            "162/162 [==============================] - 0s 57us/sample - loss: 0.8944\n",
            "Epoch 82/200\n",
            "162/162 [==============================] - 0s 49us/sample - loss: 0.8794\n",
            "Epoch 83/200\n",
            "162/162 [==============================] - 0s 49us/sample - loss: 0.9179\n",
            "Epoch 84/200\n",
            "162/162 [==============================] - 0s 58us/sample - loss: 1.0012\n",
            "Epoch 85/200\n",
            "162/162 [==============================] - 0s 56us/sample - loss: 0.8767\n",
            "Epoch 86/200\n",
            "162/162 [==============================] - 0s 58us/sample - loss: 0.8925\n",
            "Epoch 87/200\n",
            "162/162 [==============================] - 0s 62us/sample - loss: 1.0088\n",
            "Epoch 88/200\n",
            "162/162 [==============================] - 0s 57us/sample - loss: 0.9779\n",
            "Epoch 89/200\n",
            "162/162 [==============================] - 0s 54us/sample - loss: 0.8731\n",
            "Epoch 90/200\n",
            "162/162 [==============================] - 0s 54us/sample - loss: 0.9138\n",
            "Epoch 91/200\n",
            "162/162 [==============================] - 0s 57us/sample - loss: 0.8816\n",
            "Epoch 92/200\n",
            "162/162 [==============================] - 0s 57us/sample - loss: 0.8758\n",
            "Epoch 93/200\n",
            "162/162 [==============================] - 0s 59us/sample - loss: 0.8844\n",
            "Epoch 94/200\n",
            "162/162 [==============================] - 0s 64us/sample - loss: 0.8725\n",
            "Epoch 95/200\n",
            "162/162 [==============================] - 0s 59us/sample - loss: 0.8738\n",
            "Epoch 96/200\n",
            "162/162 [==============================] - 0s 67us/sample - loss: 0.8752\n",
            "Epoch 97/200\n",
            "162/162 [==============================] - 0s 59us/sample - loss: 0.8749\n",
            "Epoch 98/200\n",
            "162/162 [==============================] - 0s 61us/sample - loss: 0.8948\n",
            "Epoch 99/200\n",
            "162/162 [==============================] - 0s 66us/sample - loss: 0.8821\n",
            "Epoch 100/200\n",
            "162/162 [==============================] - 0s 60us/sample - loss: 0.8786\n",
            "Epoch 101/200\n",
            "162/162 [==============================] - 0s 60us/sample - loss: 0.8824\n",
            "Epoch 102/200\n",
            "162/162 [==============================] - 0s 61us/sample - loss: 0.9329\n",
            "Epoch 103/200\n",
            "162/162 [==============================] - 0s 63us/sample - loss: 0.8843\n",
            "Epoch 104/200\n",
            "162/162 [==============================] - 0s 51us/sample - loss: 0.8768\n",
            "Epoch 105/200\n",
            "162/162 [==============================] - 0s 59us/sample - loss: 0.8862\n",
            "Epoch 106/200\n",
            "162/162 [==============================] - 0s 59us/sample - loss: 0.8773\n",
            "Epoch 107/200\n",
            "162/162 [==============================] - 0s 58us/sample - loss: 0.8711\n",
            "Epoch 108/200\n",
            "162/162 [==============================] - 0s 48us/sample - loss: 0.8746\n",
            "Epoch 109/200\n",
            "162/162 [==============================] - 0s 54us/sample - loss: 0.8757\n",
            "Epoch 110/200\n",
            "162/162 [==============================] - 0s 52us/sample - loss: 0.8709\n",
            "Epoch 111/200\n",
            "162/162 [==============================] - 0s 55us/sample - loss: 0.8724\n",
            "Epoch 112/200\n",
            "162/162 [==============================] - 0s 76us/sample - loss: 0.8736\n",
            "Epoch 113/200\n",
            "162/162 [==============================] - 0s 53us/sample - loss: 0.8748\n",
            "Epoch 114/200\n",
            "162/162 [==============================] - 0s 50us/sample - loss: 0.8764\n",
            "Epoch 115/200\n",
            "162/162 [==============================] - 0s 48us/sample - loss: 0.8752\n",
            "Epoch 116/200\n",
            "162/162 [==============================] - 0s 62us/sample - loss: 0.8777\n",
            "Epoch 117/200\n",
            "162/162 [==============================] - 0s 65us/sample - loss: 0.8719\n",
            "Epoch 118/200\n",
            "162/162 [==============================] - 0s 73us/sample - loss: 0.8872\n",
            "Epoch 119/200\n",
            "162/162 [==============================] - 0s 56us/sample - loss: 0.8884\n",
            "Epoch 120/200\n",
            "162/162 [==============================] - 0s 53us/sample - loss: 0.8716\n",
            "Epoch 121/200\n",
            "162/162 [==============================] - 0s 55us/sample - loss: 0.8787\n",
            "Epoch 122/200\n",
            "162/162 [==============================] - 0s 82us/sample - loss: 0.8714\n",
            "Epoch 123/200\n",
            "162/162 [==============================] - 0s 86us/sample - loss: 0.8765\n",
            "Epoch 124/200\n",
            "162/162 [==============================] - 0s 46us/sample - loss: 0.8891\n",
            "Epoch 125/200\n",
            "162/162 [==============================] - 0s 57us/sample - loss: 0.8840\n",
            "Epoch 126/200\n",
            "162/162 [==============================] - 0s 61us/sample - loss: 0.8758\n",
            "Epoch 127/200\n",
            "162/162 [==============================] - 0s 85us/sample - loss: 0.8781\n",
            "Epoch 128/200\n",
            "162/162 [==============================] - 0s 71us/sample - loss: 0.8731\n",
            "Epoch 129/200\n",
            "162/162 [==============================] - 0s 73us/sample - loss: 0.8724\n",
            "Epoch 130/200\n",
            "162/162 [==============================] - 0s 53us/sample - loss: 0.8717\n",
            "Epoch 131/200\n",
            "162/162 [==============================] - 0s 86us/sample - loss: 0.8714\n",
            "Epoch 132/200\n",
            "162/162 [==============================] - 0s 55us/sample - loss: 0.8716\n",
            "Epoch 133/200\n",
            "162/162 [==============================] - 0s 58us/sample - loss: 0.8695\n",
            "Epoch 134/200\n",
            "162/162 [==============================] - 0s 59us/sample - loss: 0.8721\n",
            "Epoch 135/200\n",
            "162/162 [==============================] - 0s 55us/sample - loss: 0.8759\n",
            "Epoch 136/200\n",
            "162/162 [==============================] - 0s 59us/sample - loss: 0.8730\n",
            "Epoch 137/200\n",
            "162/162 [==============================] - 0s 59us/sample - loss: 0.8751\n",
            "Epoch 138/200\n",
            "162/162 [==============================] - 0s 60us/sample - loss: 0.8711\n",
            "Epoch 139/200\n",
            "162/162 [==============================] - 0s 57us/sample - loss: 0.8755\n",
            "Epoch 140/200\n",
            "162/162 [==============================] - 0s 50us/sample - loss: 0.8750\n",
            "Epoch 141/200\n",
            "162/162 [==============================] - 0s 50us/sample - loss: 0.8693\n",
            "Epoch 142/200\n",
            "162/162 [==============================] - 0s 59us/sample - loss: 0.8877\n",
            "Epoch 143/200\n",
            "162/162 [==============================] - 0s 53us/sample - loss: 0.8887\n",
            "Epoch 144/200\n",
            "162/162 [==============================] - 0s 56us/sample - loss: 0.8716\n",
            "Epoch 145/200\n",
            "162/162 [==============================] - 0s 58us/sample - loss: 0.8878\n",
            "Epoch 146/200\n",
            "162/162 [==============================] - 0s 61us/sample - loss: 0.8742\n",
            "Epoch 147/200\n",
            "162/162 [==============================] - 0s 62us/sample - loss: 0.8746\n",
            "Epoch 148/200\n",
            "162/162 [==============================] - 0s 61us/sample - loss: 0.8693\n",
            "Epoch 149/200\n",
            "162/162 [==============================] - 0s 56us/sample - loss: 0.8767\n",
            "Epoch 150/200\n",
            "162/162 [==============================] - 0s 58us/sample - loss: 0.8709\n",
            "Epoch 151/200\n",
            "162/162 [==============================] - 0s 61us/sample - loss: 0.8688\n",
            "Epoch 152/200\n",
            "162/162 [==============================] - 0s 63us/sample - loss: 0.8717\n",
            "Epoch 153/200\n",
            "162/162 [==============================] - 0s 61us/sample - loss: 0.8727\n",
            "Epoch 154/200\n",
            "162/162 [==============================] - 0s 61us/sample - loss: 0.8750\n",
            "Epoch 155/200\n",
            "162/162 [==============================] - 0s 65us/sample - loss: 0.8735\n",
            "Epoch 156/200\n",
            "162/162 [==============================] - 0s 54us/sample - loss: 0.8702\n",
            "Epoch 157/200\n",
            "162/162 [==============================] - 0s 49us/sample - loss: 0.8745\n",
            "Epoch 158/200\n",
            "162/162 [==============================] - 0s 63us/sample - loss: 0.8878\n",
            "Epoch 159/200\n",
            "162/162 [==============================] - 0s 61us/sample - loss: 0.9224\n",
            "Epoch 160/200\n",
            "162/162 [==============================] - 0s 62us/sample - loss: 0.8872\n",
            "Epoch 161/200\n",
            "162/162 [==============================] - 0s 74us/sample - loss: 0.8832\n",
            "Epoch 162/200\n",
            "162/162 [==============================] - 0s 48us/sample - loss: 0.8879\n",
            "Epoch 163/200\n",
            "162/162 [==============================] - 0s 47us/sample - loss: 0.8945\n",
            "Epoch 164/200\n",
            "162/162 [==============================] - 0s 46us/sample - loss: 0.8789\n",
            "Epoch 165/200\n",
            "162/162 [==============================] - 0s 52us/sample - loss: 0.8886\n",
            "Epoch 166/200\n",
            "162/162 [==============================] - 0s 57us/sample - loss: 0.9088\n",
            "Epoch 167/200\n",
            "162/162 [==============================] - 0s 65us/sample - loss: 0.8863\n",
            "Epoch 168/200\n",
            "162/162 [==============================] - 0s 63us/sample - loss: 0.8724\n",
            "Epoch 169/200\n",
            "162/162 [==============================] - 0s 56us/sample - loss: 0.8713\n",
            "Epoch 170/200\n",
            "162/162 [==============================] - 0s 67us/sample - loss: 0.8712\n",
            "Epoch 171/200\n",
            "162/162 [==============================] - 0s 81us/sample - loss: 0.8724\n",
            "Epoch 172/200\n",
            "162/162 [==============================] - 0s 48us/sample - loss: 0.8781\n",
            "Epoch 173/200\n",
            "162/162 [==============================] - 0s 78us/sample - loss: 0.8706\n",
            "Epoch 174/200\n",
            "162/162 [==============================] - 0s 58us/sample - loss: 0.8703\n",
            "Epoch 175/200\n",
            "162/162 [==============================] - 0s 53us/sample - loss: 0.8711\n",
            "Epoch 176/200\n",
            "162/162 [==============================] - 0s 62us/sample - loss: 0.8727\n",
            "Epoch 177/200\n",
            "162/162 [==============================] - 0s 57us/sample - loss: 0.8830\n",
            "Epoch 178/200\n",
            "162/162 [==============================] - 0s 66us/sample - loss: 0.8759\n",
            "Epoch 179/200\n",
            "162/162 [==============================] - 0s 69us/sample - loss: 0.8771\n",
            "Epoch 180/200\n",
            "162/162 [==============================] - 0s 58us/sample - loss: 0.8685\n",
            "Epoch 181/200\n",
            "162/162 [==============================] - 0s 57us/sample - loss: 0.8892\n",
            "Epoch 182/200\n",
            "162/162 [==============================] - 0s 59us/sample - loss: 0.8941\n",
            "Epoch 183/200\n",
            "162/162 [==============================] - 0s 57us/sample - loss: 0.8835\n",
            "Epoch 184/200\n",
            "162/162 [==============================] - 0s 53us/sample - loss: 0.8744\n",
            "Epoch 185/200\n",
            "162/162 [==============================] - 0s 52us/sample - loss: 0.8769\n",
            "Epoch 186/200\n",
            "162/162 [==============================] - 0s 53us/sample - loss: 0.8757\n",
            "Epoch 187/200\n",
            "162/162 [==============================] - 0s 57us/sample - loss: 0.8705\n",
            "Epoch 188/200\n",
            "162/162 [==============================] - 0s 62us/sample - loss: 0.8762\n",
            "Epoch 189/200\n",
            "162/162 [==============================] - 0s 59us/sample - loss: 0.8722\n",
            "Epoch 190/200\n",
            "162/162 [==============================] - 0s 51us/sample - loss: 0.8833\n",
            "Epoch 191/200\n",
            "162/162 [==============================] - 0s 53us/sample - loss: 0.8736\n",
            "Epoch 192/200\n",
            "162/162 [==============================] - 0s 52us/sample - loss: 0.8741\n",
            "Epoch 193/200\n",
            "162/162 [==============================] - 0s 57us/sample - loss: 0.8691\n",
            "Epoch 194/200\n",
            "162/162 [==============================] - 0s 61us/sample - loss: 0.8788\n",
            "Epoch 195/200\n",
            "162/162 [==============================] - 0s 57us/sample - loss: 0.8744\n",
            "Epoch 196/200\n",
            "162/162 [==============================] - 0s 63us/sample - loss: 0.8754\n",
            "Epoch 197/200\n",
            "162/162 [==============================] - 0s 53us/sample - loss: 0.8744\n",
            "Epoch 198/200\n",
            "162/162 [==============================] - 0s 53us/sample - loss: 0.8764\n",
            "Epoch 199/200\n",
            "162/162 [==============================] - 0s 59us/sample - loss: 0.8766\n",
            "Epoch 200/200\n",
            "162/162 [==============================] - 0s 52us/sample - loss: 0.8728\n"
          ],
          "name": "stdout"
        }
      ]
    },
    {
      "cell_type": "code",
      "metadata": {
        "id": "QjpBSWWoqlDV",
        "colab_type": "code",
        "outputId": "6e1c0047-d505-4f3b-a207-053ef5b0499d",
        "colab": {
          "base_uri": "https://localhost:8080/",
          "height": 282
        }
      },
      "source": [
        "# plot the loss\n",
        "plt.plot(r.history[\"loss\"], label=\"loss\")"
      ],
      "execution_count": 0,
      "outputs": [
        {
          "output_type": "execute_result",
          "data": {
            "text/plain": [
              "[<matplotlib.lines.Line2D at 0x7fa5d0304ba8>]"
            ]
          },
          "metadata": {
            "tags": []
          },
          "execution_count": 15
        },
        {
          "output_type": "display_data",
          "data": {
            "image/png": "[encoded data removed]",
            "text/plain": [
              "<Figure size 432x288 with 1 Axes>"
            ]
          },
          "metadata": {
            "tags": []
          }
        }
      ]
    },
    {
      "cell_type": "code",
      "metadata": {
        "id": "Xvm1up2tq4dy",
        "colab_type": "code",
        "outputId": "558ec677-0317-4437-9001-9d6191a82fbb",
        "colab": {
          "base_uri": "https://localhost:8080/",
          "height": 51
        }
      },
      "source": [
        "# get the slope of the line\n",
        "print(model.layers)\n",
        "print(model.layers[0].get_weights()) # first element is weight, second one is bias\n",
        "a = model.layers[0].get_weights()[0][0,0] # slope"
      ],
      "execution_count": 0,
      "outputs": [
        {
          "output_type": "stream",
          "text": [
            "[<tensorflow.python.keras.layers.core.Dense object at 0x7fa5ab2eaac8>]\n",
            "[array([[0.34576222]], dtype=float32), array([17.767662], dtype=float32)]\n"
          ],
          "name": "stdout"
        }
      ]
    },
    {
      "cell_type": "markdown",
      "metadata": {
        "id": "5LptW8OvGT7q",
        "colab_type": "text"
      },
      "source": [
        "Our original model for exponential growth is:\n",
        "\n",
        "$$ C = A_0 r^t $$\n",
        "\n",
        "Where $ C $ is transistor the count and $ t $ is the year.\n",
        "\n",
        "$ r $ is the rate of growth. For example, when $ t $ goes from 1 to 2, $ C $ increases by a factor of $ r $. When $ t $ goes from 2 to 3, $ C $ increases by a factor of $ r $ again.\n",
        "\n",
        "When we take the log of both sides, we get:\n",
        "\n",
        "$$ \\log C = \\log r * t + \\log A_0 $$\n",
        "\n",
        "This is our linear equation:\n",
        "\n",
        "$$ \\hat{y} = ax + b $$\n",
        "\n",
        "Where:\n",
        "\n",
        "$$ \\hat{y} = \\log C $$\n",
        "$$ a = \\log r $$\n",
        "$$ x = t $$\n",
        "$$ b = \\log A_0 $$\n",
        "\n",
        "We are interested in $ r $, because that's the rate of growth. Given our regression weights, we know that:\n",
        "\n",
        "$$ a = 0.34188038 $$\n",
        "\n",
        "so that:\n",
        "\n",
        "$$ r = e^{0.34188038} = 1.4076 $$\n",
        "\n",
        "To find the time it takes for transistor count to double, we simply need to find the amount of time it takes for $ C $ to increase to $ 2C $.\n",
        "\n",
        "Let's call the original starting time $ t $, to correspond with the initial transistor count $ C $.\n",
        "\n",
        "Let's call the end time $ t' $, to correspond with the final transistor count $ 2C $.\n",
        "\n",
        "Then we also have:\n",
        "\n",
        "$$ 2C = A_0 r ^ {t'} $$\n",
        "\n",
        "Combine this with our original equation:\n",
        "\n",
        "$$ C = A_0 r^t $$\n",
        "\n",
        "We get (by dividing the 2 equations):\n",
        "\n",
        "$$ 2C/C = (A_0 r ^ {t'}) / A_0 r^t $$\n",
        "\n",
        "Which simplifies to:\n",
        "\n",
        "$$ 2 = r^{(t' - t)} $$\n",
        "\n",
        "Solve for $ t' - t $:\n",
        "\n",
        "$$ t' - t = \\frac{\\log 2}{\\log r} = \\frac{\\log2}{a}$$\n",
        "\n",
        "\n",
        "Important note! We haven't specified what the starting time $ t $ actually is, and we don't have to since we just proved that this holds for any $ t $."
      ]
    },
    {
      "cell_type": "code",
      "metadata": {
        "id": "bRq7BCx12XHx",
        "colab_type": "code",
        "outputId": "9e002331-2f46-497c-8ce9-c0ef8e96e210",
        "colab": {
          "base_uri": "https://localhost:8080/",
          "height": 34
        }
      },
      "source": [
        "print(\"Time to double:\", np.log(2) / a)"
      ],
      "execution_count": 0,
      "outputs": [
        {
          "output_type": "stream",
          "text": [
            "Time to double: 2.004693209498861\n"
          ],
          "name": "stdout"
        }
      ]
    },
    {
      "cell_type": "code",
      "metadata": {
        "id": "eES_pcA73KVI",
        "colab_type": "code",
        "colab": {}
      },
      "source": [
        "# the analytical solution\n",
        "X = np.array(X).flatten()\n",
        "Y = np.array(Y)\n",
        "denominator = X.dot(X) - X.mean() * X.sum()\n",
        "a = ( X.dot(Y) - Y.mean()*X.sum() ) / denominator\n",
        "b = ( Y.mean() * X.dot(X) - X.mean() * X.dot(Y) ) / denominator\n",
        "print(a, b)\n",
        "print(\"Time to double:\", np.log(2) / a)"
      ],
      "execution_count": 0,
      "outputs": []
    },
    {
      "cell_type": "code",
      "metadata": {
        "id": "-qXlbaEqAC5G",
        "colab_type": "code",
        "outputId": "46c8564c-2f22-43e9-9d6b-8896076ac972",
        "colab": {
          "base_uri": "https://localhost:8080/",
          "height": 282
        }
      },
      "source": [
        "# Make prediction\n",
        "Yhat = model.predict(X).flatten()\n",
        "plt.scatter(X, Y)\n",
        "plt.plot(X, Yhat)"
      ],
      "execution_count": 0,
      "outputs": [
        {
          "output_type": "execute_result",
          "data": {
            "text/plain": [
              "[<matplotlib.lines.Line2D at 0x7fa5b3e475c0>]"
            ]
          },
          "metadata": {
            "tags": []
          },
          "execution_count": 20
        },
        {
          "output_type": "display_data",
          "data": {
            "image/png": "[encoded data removed]",
            "text/plain": [
              "<Figure size 432x288 with 1 Axes>"
            ]
          },
          "metadata": {
            "tags": []
          }
        }
      ]
    },
    {
      "cell_type": "code",
      "metadata": {
        "id": "oWkCeqKkAZmX",
        "colab_type": "code",
        "outputId": "74df5e0e-26ff-4fa0-ffd4-d8d45f492bef",
        "colab": {
          "base_uri": "https://localhost:8080/",
          "height": 34
        }
      },
      "source": [
        "# manual calculation\n",
        "\n",
        "# get weights\n",
        "w, b = model.layers[0].get_weights()\n",
        "X = X.reshape(-1, 1)\n",
        "Yhat2 = (X.dot(w) + b).flatten()\n",
        "np.allclose(Yhat, Yhat2)"
      ],
      "execution_count": 0,
      "outputs": [
        {
          "output_type": "execute_result",
          "data": {
            "text/plain": [
              "True"
            ]
          },
          "metadata": {
            "tags": []
          },
          "execution_count": 22
        }
      ]
    }
  ]
}