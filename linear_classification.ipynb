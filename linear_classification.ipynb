{
  "nbformat": 4,
  "nbformat_minor": 0,
  "metadata": {
    "colab": {
      "name": "linear_classification.ipynb",
      "provenance": [],
      "collapsed_sections": [],
      "include_colab_link": true
    },
    "kernelspec": {
      "name": "python3",
      "display_name": "Python 3"
    }
  },
  "cells": [
    {
      "cell_type": "markdown",
      "metadata": {
        "id": "view-in-github",
        "colab_type": "text"
      },
      "source": [
        "<a href=\"https://colab.research.google.com/github/jonnythebard/tf2_workbook/blob/master/linear_classification.ipynb\" target=\"_parent\"><img src=\"https://colab.research.google.com/assets/colab-badge.svg\" alt=\"Open In Colab\"/></a>"
      ]
    },
    {
      "cell_type": "code",
      "metadata": {
        "id": "NO_cCr0u2pHN",
        "colab_type": "code",
        "outputId": "f6258498-cef9-46ee-be98-8983327bb16f",
        "colab": {
          "base_uri": "https://localhost:8080/",
          "height": 34
        }
      },
      "source": [
        "# Install Tensorflow\n",
        "!pip install -q tensorflow==2.0.0-beta1\n",
        "import tensorflow as tf\n",
        "print(tf.__version__)"
      ],
      "execution_count": 11,
      "outputs": [
        {
          "output_type": "stream",
          "text": [
            "2.0.0-beta1\n"
          ],
          "name": "stdout"
        }
      ]
    },
    {
      "cell_type": "code",
      "metadata": {
        "id": "hEtmsV7mJkmL",
        "colab_type": "code",
        "colab": {}
      },
      "source": [
        "# Load in the data\n",
        "from sklearn.datasets import load_breast_cancer"
      ],
      "execution_count": 0,
      "outputs": []
    },
    {
      "cell_type": "code",
      "metadata": {
        "id": "WtIdSHLQJzQy",
        "colab_type": "code",
        "colab": {
          "base_uri": "https://localhost:8080/",
          "height": 527
        },
        "outputId": "6f5d624c-faac-4383-deea-7561ff883a70"
      },
      "source": [
        "# Load the data\n",
        "data = load_breast_cancer()\n",
        "\n",
        "print(type(data))\n",
        "print(data.keys())\n",
        "print(data.data.shape)\n",
        "print(data.target)\n",
        "print(data.target_names)\n",
        "print(data.target.shape)\n",
        "print(data.feature_names)"
      ],
      "execution_count": 13,
      "outputs": [
        {
          "output_type": "stream",
          "text": [
            "<class 'sklearn.utils.Bunch'>\n",
            "dict_keys(['data', 'target', 'target_names', 'DESCR', 'feature_names', 'filename'])\n",
            "(569, 30)\n",
            "[0 0 0 0 0 0 0 0 0 0 0 0 0 0 0 0 0 0 0 1 1 1 0 0 0 0 0 0 0 0 0 0 0 0 0 0 0\n",
            " 1 0 0 0 0 0 0 0 0 1 0 1 1 1 1 1 0 0 1 0 0 1 1 1 1 0 1 0 0 1 1 1 1 0 1 0 0\n",
            " 1 0 1 0 0 1 1 1 0 0 1 0 0 0 1 1 1 0 1 1 0 0 1 1 1 0 0 1 1 1 1 0 1 1 0 1 1\n",
            " 1 1 1 1 1 1 0 0 0 1 0 0 1 1 1 0 0 1 0 1 0 0 1 0 0 1 1 0 1 1 0 1 1 1 1 0 1\n",
            " 1 1 1 1 1 1 1 1 0 1 1 1 1 0 0 1 0 1 1 0 0 1 1 0 0 1 1 1 1 0 1 1 0 0 0 1 0\n",
            " 1 0 1 1 1 0 1 1 0 0 1 0 0 0 0 1 0 0 0 1 0 1 0 1 1 0 1 0 0 0 0 1 1 0 0 1 1\n",
            " 1 0 1 1 1 1 1 0 0 1 1 0 1 1 0 0 1 0 1 1 1 1 0 1 1 1 1 1 0 1 0 0 0 0 0 0 0\n",
            " 0 0 0 0 0 0 0 1 1 1 1 1 1 0 1 0 1 1 0 1 1 0 1 0 0 1 1 1 1 1 1 1 1 1 1 1 1\n",
            " 1 0 1 1 0 1 0 1 1 1 1 1 1 1 1 1 1 1 1 1 1 0 1 1 1 0 1 0 1 1 1 1 0 0 0 1 1\n",
            " 1 1 0 1 0 1 0 1 1 1 0 1 1 1 1 1 1 1 0 0 0 1 1 1 1 1 1 1 1 1 1 1 0 0 1 0 0\n",
            " 0 1 0 0 1 1 1 1 1 0 1 1 1 1 1 0 1 1 1 0 1 1 0 0 1 1 1 1 1 1 0 1 1 1 1 1 1\n",
            " 1 0 1 1 1 1 1 0 1 1 0 1 1 1 1 1 1 1 1 1 1 1 1 0 1 0 0 1 0 1 1 1 1 1 0 1 1\n",
            " 0 1 0 1 1 0 1 0 1 1 1 1 1 1 1 1 0 0 1 1 1 1 1 1 0 1 1 1 1 1 1 1 1 1 1 0 1\n",
            " 1 1 1 1 1 1 0 1 0 1 1 0 1 1 1 1 1 0 0 1 0 1 0 1 1 1 1 1 0 1 1 0 1 0 1 0 0\n",
            " 1 1 1 0 1 1 1 1 1 1 1 1 1 1 1 0 1 0 0 1 1 1 1 1 1 1 1 1 1 1 1 1 1 1 1 1 1\n",
            " 1 1 1 1 1 1 1 0 0 0 0 0 0 1]\n",
            "['malignant' 'benign']\n",
            "(569,)\n",
            "['mean radius' 'mean texture' 'mean perimeter' 'mean area'\n",
            " 'mean smoothness' 'mean compactness' 'mean concavity'\n",
            " 'mean concave points' 'mean symmetry' 'mean fractal dimension'\n",
            " 'radius error' 'texture error' 'perimeter error' 'area error'\n",
            " 'smoothness error' 'compactness error' 'concavity error'\n",
            " 'concave points error' 'symmetry error' 'fractal dimension error'\n",
            " 'worst radius' 'worst texture' 'worst perimeter' 'worst area'\n",
            " 'worst smoothness' 'worst compactness' 'worst concavity'\n",
            " 'worst concave points' 'worst symmetry' 'worst fractal dimension']\n"
          ],
          "name": "stdout"
        }
      ]
    },
    {
      "cell_type": "code",
      "metadata": {
        "id": "5NK0q1rXMxH1",
        "colab_type": "code",
        "colab": {}
      },
      "source": [
        "# split the data indo traion and test sets\n",
        "from sklearn.model_selection import train_test_split\n",
        "\n",
        "X_train, X_test, y_train, y_test = train_test_split(data.data, data.target, test_size=0.33)\n",
        "N, D = X_train.shape"
      ],
      "execution_count": 0,
      "outputs": []
    },
    {
      "cell_type": "code",
      "metadata": {
        "id": "sD7XgbEaOrIp",
        "colab_type": "code",
        "colab": {}
      },
      "source": [
        "# scale the data\n",
        "from sklearn.preprocessing import StandardScaler\n",
        "\n",
        "scaler = StandardScaler()\n",
        "X_train = scaler.fit_transform(X_train)\n",
        "X_test = scaler.transform(X_test)"
      ],
      "execution_count": 0,
      "outputs": []
    },
    {
      "cell_type": "code",
      "metadata": {
        "id": "NQda61CqPK1I",
        "colab_type": "code",
        "outputId": "6214fc38-2899-4cbe-fcec-cce5087d4ea6",
        "colab": {
          "base_uri": "https://localhost:8080/",
          "height": 1000
        }
      },
      "source": [
        "# build the model\n",
        "model = tf.keras.models.Sequential([\n",
        "  tf.keras.layers.Input(shape=(D,)),\n",
        "  tf.keras.layers.Dense(1, activation=\"sigmoid\")\n",
        "])\n",
        "\n",
        "model.compile(optimizer=\"adam\", loss=\"binary_crossentropy\", metrics=[\"accuracy\"])\n",
        "\n",
        "# train the model\n",
        "r = model.fit(X_train, y_train, validation_data=(X_test, y_test), epochs=100)\n",
        "\n",
        "# evaluate the model\n",
        "print(\"train score:\", model.evaluate(X_train, y_train))\n",
        "print(\"Test score\", model.evaluate(X_test, y_test))"
      ],
      "execution_count": 6,
      "outputs": [
        {
          "output_type": "stream",
          "text": [
            "WARNING:tensorflow:From /usr/local/lib/python3.6/dist-packages/tensorflow/python/ops/math_grad.py:1250: add_dispatch_support.<locals>.wrapper (from tensorflow.python.ops.array_ops) is deprecated and will be removed in a future version.\n",
            "Instructions for updating:\n",
            "Use tf.where in 2.0, which has the same broadcast rule as np.where\n",
            "Train on 381 samples, validate on 188 samples\n",
            "Epoch 1/100\n",
            "381/381 [==============================] - 0s 495us/sample - loss: 0.6437 - accuracy: 0.6273 - val_loss: 0.5970 - val_accuracy: 0.6862\n",
            "Epoch 2/100\n",
            "381/381 [==============================] - 0s 56us/sample - loss: 0.5841 - accuracy: 0.6955 - val_loss: 0.5410 - val_accuracy: 0.7287\n",
            "Epoch 3/100\n",
            "381/381 [==============================] - 0s 53us/sample - loss: 0.5310 - accuracy: 0.7297 - val_loss: 0.4940 - val_accuracy: 0.7766\n",
            "Epoch 4/100\n",
            "381/381 [==============================] - 0s 57us/sample - loss: 0.4874 - accuracy: 0.7664 - val_loss: 0.4532 - val_accuracy: 0.7979\n",
            "Epoch 5/100\n",
            "381/381 [==============================] - 0s 51us/sample - loss: 0.4507 - accuracy: 0.7874 - val_loss: 0.4178 - val_accuracy: 0.8138\n",
            "Epoch 6/100\n",
            "381/381 [==============================] - 0s 54us/sample - loss: 0.4180 - accuracy: 0.8241 - val_loss: 0.3886 - val_accuracy: 0.8351\n",
            "Epoch 7/100\n",
            "381/381 [==============================] - 0s 57us/sample - loss: 0.3915 - accuracy: 0.8399 - val_loss: 0.3628 - val_accuracy: 0.8511\n",
            "Epoch 8/100\n",
            "381/381 [==============================] - 0s 55us/sample - loss: 0.3681 - accuracy: 0.8451 - val_loss: 0.3407 - val_accuracy: 0.8723\n",
            "Epoch 9/100\n",
            "381/381 [==============================] - 0s 56us/sample - loss: 0.3479 - accuracy: 0.8661 - val_loss: 0.3214 - val_accuracy: 0.8830\n",
            "Epoch 10/100\n",
            "381/381 [==============================] - 0s 54us/sample - loss: 0.3301 - accuracy: 0.8766 - val_loss: 0.3047 - val_accuracy: 0.8883\n",
            "Epoch 11/100\n",
            "381/381 [==============================] - 0s 54us/sample - loss: 0.3143 - accuracy: 0.8845 - val_loss: 0.2902 - val_accuracy: 0.8936\n",
            "Epoch 12/100\n",
            "381/381 [==============================] - 0s 58us/sample - loss: 0.3007 - accuracy: 0.8845 - val_loss: 0.2770 - val_accuracy: 0.8936\n",
            "Epoch 13/100\n",
            "381/381 [==============================] - 0s 56us/sample - loss: 0.2886 - accuracy: 0.8898 - val_loss: 0.2651 - val_accuracy: 0.8936\n",
            "Epoch 14/100\n",
            "381/381 [==============================] - 0s 62us/sample - loss: 0.2773 - accuracy: 0.8924 - val_loss: 0.2547 - val_accuracy: 0.8936\n",
            "Epoch 15/100\n",
            "381/381 [==============================] - 0s 64us/sample - loss: 0.2674 - accuracy: 0.8950 - val_loss: 0.2451 - val_accuracy: 0.8989\n",
            "Epoch 16/100\n",
            "381/381 [==============================] - 0s 57us/sample - loss: 0.2583 - accuracy: 0.8924 - val_loss: 0.2364 - val_accuracy: 0.8989\n",
            "Epoch 17/100\n",
            "381/381 [==============================] - 0s 56us/sample - loss: 0.2499 - accuracy: 0.8924 - val_loss: 0.2286 - val_accuracy: 0.8989\n",
            "Epoch 18/100\n",
            "381/381 [==============================] - 0s 57us/sample - loss: 0.2425 - accuracy: 0.8950 - val_loss: 0.2213 - val_accuracy: 0.9043\n",
            "Epoch 19/100\n",
            "381/381 [==============================] - 0s 56us/sample - loss: 0.2352 - accuracy: 0.9029 - val_loss: 0.2148 - val_accuracy: 0.9096\n",
            "Epoch 20/100\n",
            "381/381 [==============================] - 0s 57us/sample - loss: 0.2288 - accuracy: 0.9029 - val_loss: 0.2087 - val_accuracy: 0.9149\n",
            "Epoch 21/100\n",
            "381/381 [==============================] - 0s 58us/sample - loss: 0.2229 - accuracy: 0.9108 - val_loss: 0.2030 - val_accuracy: 0.9149\n",
            "Epoch 22/100\n",
            "381/381 [==============================] - 0s 57us/sample - loss: 0.2173 - accuracy: 0.9160 - val_loss: 0.1978 - val_accuracy: 0.9149\n",
            "Epoch 23/100\n",
            "381/381 [==============================] - 0s 67us/sample - loss: 0.2122 - accuracy: 0.9160 - val_loss: 0.1928 - val_accuracy: 0.9149\n",
            "Epoch 24/100\n",
            "381/381 [==============================] - 0s 55us/sample - loss: 0.2072 - accuracy: 0.9160 - val_loss: 0.1883 - val_accuracy: 0.9202\n",
            "Epoch 25/100\n",
            "381/381 [==============================] - 0s 59us/sample - loss: 0.2027 - accuracy: 0.9186 - val_loss: 0.1840 - val_accuracy: 0.9255\n",
            "Epoch 26/100\n",
            "381/381 [==============================] - 0s 58us/sample - loss: 0.1984 - accuracy: 0.9265 - val_loss: 0.1801 - val_accuracy: 0.9309\n",
            "Epoch 27/100\n",
            "381/381 [==============================] - 0s 60us/sample - loss: 0.1944 - accuracy: 0.9265 - val_loss: 0.1763 - val_accuracy: 0.9309\n",
            "Epoch 28/100\n",
            "381/381 [==============================] - 0s 56us/sample - loss: 0.1906 - accuracy: 0.9291 - val_loss: 0.1728 - val_accuracy: 0.9309\n",
            "Epoch 29/100\n",
            "381/381 [==============================] - 0s 55us/sample - loss: 0.1869 - accuracy: 0.9291 - val_loss: 0.1695 - val_accuracy: 0.9309\n",
            "Epoch 30/100\n",
            "381/381 [==============================] - 0s 55us/sample - loss: 0.1837 - accuracy: 0.9344 - val_loss: 0.1663 - val_accuracy: 0.9309\n",
            "Epoch 31/100\n",
            "381/381 [==============================] - 0s 54us/sample - loss: 0.1804 - accuracy: 0.9370 - val_loss: 0.1633 - val_accuracy: 0.9309\n",
            "Epoch 32/100\n",
            "381/381 [==============================] - 0s 54us/sample - loss: 0.1772 - accuracy: 0.9396 - val_loss: 0.1606 - val_accuracy: 0.9309\n",
            "Epoch 33/100\n",
            "381/381 [==============================] - 0s 52us/sample - loss: 0.1744 - accuracy: 0.9423 - val_loss: 0.1579 - val_accuracy: 0.9415\n",
            "Epoch 34/100\n",
            "381/381 [==============================] - 0s 56us/sample - loss: 0.1717 - accuracy: 0.9449 - val_loss: 0.1553 - val_accuracy: 0.9415\n",
            "Epoch 35/100\n",
            "381/381 [==============================] - 0s 61us/sample - loss: 0.1691 - accuracy: 0.9475 - val_loss: 0.1528 - val_accuracy: 0.9362\n",
            "Epoch 36/100\n",
            "381/381 [==============================] - 0s 62us/sample - loss: 0.1665 - accuracy: 0.9475 - val_loss: 0.1505 - val_accuracy: 0.9362\n",
            "Epoch 37/100\n",
            "381/381 [==============================] - 0s 55us/sample - loss: 0.1640 - accuracy: 0.9475 - val_loss: 0.1483 - val_accuracy: 0.9362\n",
            "Epoch 38/100\n",
            "381/381 [==============================] - 0s 57us/sample - loss: 0.1619 - accuracy: 0.9475 - val_loss: 0.1462 - val_accuracy: 0.9362\n",
            "Epoch 39/100\n",
            "381/381 [==============================] - 0s 60us/sample - loss: 0.1596 - accuracy: 0.9501 - val_loss: 0.1441 - val_accuracy: 0.9362\n",
            "Epoch 40/100\n",
            "381/381 [==============================] - 0s 56us/sample - loss: 0.1574 - accuracy: 0.9501 - val_loss: 0.1422 - val_accuracy: 0.9362\n",
            "Epoch 41/100\n",
            "381/381 [==============================] - 0s 74us/sample - loss: 0.1554 - accuracy: 0.9501 - val_loss: 0.1403 - val_accuracy: 0.9362\n",
            "Epoch 42/100\n",
            "381/381 [==============================] - 0s 60us/sample - loss: 0.1534 - accuracy: 0.9528 - val_loss: 0.1385 - val_accuracy: 0.9362\n",
            "Epoch 43/100\n",
            "381/381 [==============================] - 0s 63us/sample - loss: 0.1515 - accuracy: 0.9554 - val_loss: 0.1368 - val_accuracy: 0.9362\n",
            "Epoch 44/100\n",
            "381/381 [==============================] - 0s 60us/sample - loss: 0.1497 - accuracy: 0.9554 - val_loss: 0.1351 - val_accuracy: 0.9362\n",
            "Epoch 45/100\n",
            "381/381 [==============================] - 0s 57us/sample - loss: 0.1479 - accuracy: 0.9554 - val_loss: 0.1336 - val_accuracy: 0.9362\n",
            "Epoch 46/100\n",
            "381/381 [==============================] - 0s 50us/sample - loss: 0.1463 - accuracy: 0.9554 - val_loss: 0.1320 - val_accuracy: 0.9362\n",
            "Epoch 47/100\n",
            "381/381 [==============================] - 0s 63us/sample - loss: 0.1446 - accuracy: 0.9554 - val_loss: 0.1305 - val_accuracy: 0.9362\n",
            "Epoch 48/100\n",
            "381/381 [==============================] - 0s 52us/sample - loss: 0.1431 - accuracy: 0.9554 - val_loss: 0.1290 - val_accuracy: 0.9362\n",
            "Epoch 49/100\n",
            "381/381 [==============================] - 0s 52us/sample - loss: 0.1415 - accuracy: 0.9554 - val_loss: 0.1277 - val_accuracy: 0.9362\n",
            "Epoch 50/100\n",
            "381/381 [==============================] - 0s 56us/sample - loss: 0.1400 - accuracy: 0.9554 - val_loss: 0.1264 - val_accuracy: 0.9362\n",
            "Epoch 51/100\n",
            "381/381 [==============================] - 0s 78us/sample - loss: 0.1386 - accuracy: 0.9554 - val_loss: 0.1250 - val_accuracy: 0.9362\n",
            "Epoch 52/100\n",
            "381/381 [==============================] - 0s 58us/sample - loss: 0.1372 - accuracy: 0.9554 - val_loss: 0.1237 - val_accuracy: 0.9362\n",
            "Epoch 53/100\n",
            "381/381 [==============================] - 0s 49us/sample - loss: 0.1358 - accuracy: 0.9554 - val_loss: 0.1225 - val_accuracy: 0.9362\n",
            "Epoch 54/100\n",
            "381/381 [==============================] - 0s 62us/sample - loss: 0.1346 - accuracy: 0.9606 - val_loss: 0.1213 - val_accuracy: 0.9362\n",
            "Epoch 55/100\n",
            "381/381 [==============================] - 0s 57us/sample - loss: 0.1332 - accuracy: 0.9606 - val_loss: 0.1202 - val_accuracy: 0.9362\n",
            "Epoch 56/100\n",
            "381/381 [==============================] - 0s 58us/sample - loss: 0.1320 - accuracy: 0.9606 - val_loss: 0.1191 - val_accuracy: 0.9362\n",
            "Epoch 57/100\n",
            "381/381 [==============================] - 0s 68us/sample - loss: 0.1308 - accuracy: 0.9606 - val_loss: 0.1180 - val_accuracy: 0.9362\n",
            "Epoch 58/100\n",
            "381/381 [==============================] - 0s 52us/sample - loss: 0.1296 - accuracy: 0.9606 - val_loss: 0.1170 - val_accuracy: 0.9362\n",
            "Epoch 59/100\n",
            "381/381 [==============================] - 0s 54us/sample - loss: 0.1285 - accuracy: 0.9606 - val_loss: 0.1159 - val_accuracy: 0.9362\n",
            "Epoch 60/100\n",
            "381/381 [==============================] - 0s 55us/sample - loss: 0.1274 - accuracy: 0.9659 - val_loss: 0.1149 - val_accuracy: 0.9362\n",
            "Epoch 61/100\n",
            "381/381 [==============================] - 0s 61us/sample - loss: 0.1263 - accuracy: 0.9659 - val_loss: 0.1140 - val_accuracy: 0.9362\n",
            "Epoch 62/100\n",
            "381/381 [==============================] - 0s 57us/sample - loss: 0.1252 - accuracy: 0.9685 - val_loss: 0.1130 - val_accuracy: 0.9415\n",
            "Epoch 63/100\n",
            "381/381 [==============================] - 0s 53us/sample - loss: 0.1242 - accuracy: 0.9685 - val_loss: 0.1121 - val_accuracy: 0.9415\n",
            "Epoch 64/100\n",
            "381/381 [==============================] - 0s 54us/sample - loss: 0.1231 - accuracy: 0.9685 - val_loss: 0.1112 - val_accuracy: 0.9415\n",
            "Epoch 65/100\n",
            "381/381 [==============================] - 0s 56us/sample - loss: 0.1222 - accuracy: 0.9685 - val_loss: 0.1103 - val_accuracy: 0.9415\n",
            "Epoch 66/100\n",
            "381/381 [==============================] - 0s 53us/sample - loss: 0.1212 - accuracy: 0.9711 - val_loss: 0.1095 - val_accuracy: 0.9415\n",
            "Epoch 67/100\n",
            "381/381 [==============================] - 0s 52us/sample - loss: 0.1203 - accuracy: 0.9711 - val_loss: 0.1087 - val_accuracy: 0.9415\n",
            "Epoch 68/100\n",
            "381/381 [==============================] - 0s 56us/sample - loss: 0.1194 - accuracy: 0.9711 - val_loss: 0.1079 - val_accuracy: 0.9468\n",
            "Epoch 69/100\n",
            "381/381 [==============================] - 0s 56us/sample - loss: 0.1185 - accuracy: 0.9738 - val_loss: 0.1070 - val_accuracy: 0.9468\n",
            "Epoch 70/100\n",
            "381/381 [==============================] - 0s 54us/sample - loss: 0.1176 - accuracy: 0.9738 - val_loss: 0.1063 - val_accuracy: 0.9468\n",
            "Epoch 71/100\n",
            "381/381 [==============================] - 0s 57us/sample - loss: 0.1167 - accuracy: 0.9738 - val_loss: 0.1056 - val_accuracy: 0.9468\n",
            "Epoch 72/100\n",
            "381/381 [==============================] - 0s 56us/sample - loss: 0.1159 - accuracy: 0.9738 - val_loss: 0.1049 - val_accuracy: 0.9468\n",
            "Epoch 73/100\n",
            "381/381 [==============================] - 0s 54us/sample - loss: 0.1151 - accuracy: 0.9738 - val_loss: 0.1041 - val_accuracy: 0.9468\n",
            "Epoch 74/100\n",
            "381/381 [==============================] - 0s 62us/sample - loss: 0.1143 - accuracy: 0.9738 - val_loss: 0.1034 - val_accuracy: 0.9468\n",
            "Epoch 75/100\n",
            "381/381 [==============================] - 0s 52us/sample - loss: 0.1135 - accuracy: 0.9764 - val_loss: 0.1028 - val_accuracy: 0.9468\n",
            "Epoch 76/100\n",
            "381/381 [==============================] - 0s 71us/sample - loss: 0.1127 - accuracy: 0.9738 - val_loss: 0.1021 - val_accuracy: 0.9468\n",
            "Epoch 77/100\n",
            "381/381 [==============================] - 0s 54us/sample - loss: 0.1120 - accuracy: 0.9738 - val_loss: 0.1014 - val_accuracy: 0.9468\n",
            "Epoch 78/100\n",
            "381/381 [==============================] - 0s 55us/sample - loss: 0.1112 - accuracy: 0.9738 - val_loss: 0.1008 - val_accuracy: 0.9468\n",
            "Epoch 79/100\n",
            "381/381 [==============================] - 0s 58us/sample - loss: 0.1105 - accuracy: 0.9738 - val_loss: 0.1002 - val_accuracy: 0.9468\n",
            "Epoch 80/100\n",
            "381/381 [==============================] - 0s 55us/sample - loss: 0.1098 - accuracy: 0.9738 - val_loss: 0.0996 - val_accuracy: 0.9468\n",
            "Epoch 81/100\n",
            "381/381 [==============================] - 0s 57us/sample - loss: 0.1091 - accuracy: 0.9738 - val_loss: 0.0990 - val_accuracy: 0.9468\n",
            "Epoch 82/100\n",
            "381/381 [==============================] - 0s 60us/sample - loss: 0.1084 - accuracy: 0.9738 - val_loss: 0.0984 - val_accuracy: 0.9468\n",
            "Epoch 83/100\n",
            "381/381 [==============================] - 0s 60us/sample - loss: 0.1077 - accuracy: 0.9738 - val_loss: 0.0979 - val_accuracy: 0.9468\n",
            "Epoch 84/100\n",
            "381/381 [==============================] - 0s 55us/sample - loss: 0.1071 - accuracy: 0.9738 - val_loss: 0.0973 - val_accuracy: 0.9468\n",
            "Epoch 85/100\n",
            "381/381 [==============================] - 0s 71us/sample - loss: 0.1064 - accuracy: 0.9764 - val_loss: 0.0968 - val_accuracy: 0.9468\n",
            "Epoch 86/100\n",
            "381/381 [==============================] - 0s 53us/sample - loss: 0.1058 - accuracy: 0.9764 - val_loss: 0.0962 - val_accuracy: 0.9574\n",
            "Epoch 87/100\n",
            "381/381 [==============================] - 0s 51us/sample - loss: 0.1052 - accuracy: 0.9764 - val_loss: 0.0957 - val_accuracy: 0.9574\n",
            "Epoch 88/100\n",
            "381/381 [==============================] - 0s 61us/sample - loss: 0.1046 - accuracy: 0.9764 - val_loss: 0.0952 - val_accuracy: 0.9574\n",
            "Epoch 89/100\n",
            "381/381 [==============================] - 0s 61us/sample - loss: 0.1039 - accuracy: 0.9764 - val_loss: 0.0947 - val_accuracy: 0.9574\n",
            "Epoch 90/100\n",
            "381/381 [==============================] - 0s 59us/sample - loss: 0.1033 - accuracy: 0.9764 - val_loss: 0.0942 - val_accuracy: 0.9574\n",
            "Epoch 91/100\n",
            "381/381 [==============================] - 0s 58us/sample - loss: 0.1028 - accuracy: 0.9764 - val_loss: 0.0938 - val_accuracy: 0.9628\n",
            "Epoch 92/100\n",
            "381/381 [==============================] - 0s 60us/sample - loss: 0.1022 - accuracy: 0.9816 - val_loss: 0.0933 - val_accuracy: 0.9628\n",
            "Epoch 93/100\n",
            "381/381 [==============================] - 0s 56us/sample - loss: 0.1016 - accuracy: 0.9816 - val_loss: 0.0929 - val_accuracy: 0.9628\n",
            "Epoch 94/100\n",
            "381/381 [==============================] - 0s 53us/sample - loss: 0.1011 - accuracy: 0.9816 - val_loss: 0.0924 - val_accuracy: 0.9628\n",
            "Epoch 95/100\n",
            "381/381 [==============================] - 0s 56us/sample - loss: 0.1005 - accuracy: 0.9816 - val_loss: 0.0920 - val_accuracy: 0.9628\n",
            "Epoch 96/100\n",
            "381/381 [==============================] - 0s 52us/sample - loss: 0.1000 - accuracy: 0.9816 - val_loss: 0.0915 - val_accuracy: 0.9628\n",
            "Epoch 97/100\n",
            "381/381 [==============================] - 0s 66us/sample - loss: 0.0995 - accuracy: 0.9816 - val_loss: 0.0911 - val_accuracy: 0.9628\n",
            "Epoch 98/100\n",
            "381/381 [==============================] - 0s 57us/sample - loss: 0.0989 - accuracy: 0.9816 - val_loss: 0.0907 - val_accuracy: 0.9628\n",
            "Epoch 99/100\n",
            "381/381 [==============================] - 0s 64us/sample - loss: 0.0985 - accuracy: 0.9816 - val_loss: 0.0903 - val_accuracy: 0.9628\n",
            "Epoch 100/100\n",
            "381/381 [==============================] - 0s 63us/sample - loss: 0.0980 - accuracy: 0.9816 - val_loss: 0.0899 - val_accuracy: 0.9628\n",
            "381/381 [==============================] - 0s 63us/sample - loss: 0.0976 - accuracy: 0.9816\n",
            "train score: [0.09762776748636576, 0.9816273]\n",
            "188/188 [==============================] - 0s 35us/sample - loss: 0.0899 - accuracy: 0.9628\n",
            "Test score [0.08988825723211816, 0.96276593]\n"
          ],
          "name": "stdout"
        }
      ]
    },
    {
      "cell_type": "code",
      "metadata": {
        "id": "XzKgLF5_TXUk",
        "colab_type": "code",
        "outputId": "32c8c3c0-d173-43b2-a085-f9b0533cd704",
        "colab": {
          "base_uri": "https://localhost:8080/",
          "height": 282
        }
      },
      "source": [
        "# plot the loss\n",
        "import matplotlib.pyplot as plt\n",
        "plt.plot(r.history[\"loss\"], label=\"loss\")\n",
        "plt.plot(r.history[\"val_loss\"], label=\"val_loss\")\n",
        "plt.legend()"
      ],
      "execution_count": 7,
      "outputs": [
        {
          "output_type": "execute_result",
          "data": {
            "text/plain": [
              "<matplotlib.legend.Legend at 0x7f30f1ef0da0>"
            ]
          },
          "metadata": {
            "tags": []
          },
          "execution_count": 7
        },
        {
          "output_type": "display_data",
          "data": {
            "image/png": "[encoded data removed]",
            "text/plain": [
              "<Figure size 432x288 with 1 Axes>"
            ]
          },
          "metadata": {
            "tags": []
          }
        }
      ]
    },
    {
      "cell_type": "code",
      "metadata": {
        "id": "O6sbb8pEUQAE",
        "colab_type": "code",
        "outputId": "0038fe2b-0ae9-4651-b41f-d33b4b6d318e",
        "colab": {
          "base_uri": "https://localhost:8080/",
          "height": 282
        }
      },
      "source": [
        "# plot the accuracy\n",
        "\n",
        "plt.plot(r.history[\"accuracy\"], label=\"acc\")\n",
        "plt.plot(r.history[\"val_accuracy\"], label=\"val_acc\")\n",
        "plt.legend()"
      ],
      "execution_count": 8,
      "outputs": [
        {
          "output_type": "execute_result",
          "data": {
            "text/plain": [
              "<matplotlib.legend.Legend at 0x7f30f19d4e10>"
            ]
          },
          "metadata": {
            "tags": []
          },
          "execution_count": 8
        },
        {
          "output_type": "display_data",
          "data": {
            "image/png": "[encoded data removed]",
            "text/plain": [
              "<Figure size 432x288 with 1 Axes>"
            ]
          },
          "metadata": {
            "tags": []
          }
        }
      ]
    },
    {
      "cell_type": "code",
      "metadata": {
        "id": "fzrvjxMG-wvA",
        "colab_type": "code",
        "outputId": "6406dd32-cee7-4a62-b2f4-776f32603549",
        "colab": {
          "base_uri": "https://localhost:8080/",
          "height": 153
        }
      },
      "source": [
        "# Make prediction\n",
        "P = model.predict(X_test)\n",
        "\n",
        "# round to get the actual prediction\n",
        "import numpy as np\n",
        "P = np.round(P).flatten()\n",
        "print(P)"
      ],
      "execution_count": 9,
      "outputs": [
        {
          "output_type": "stream",
          "text": [
            "[1. 1. 0. 1. 0. 1. 0. 1. 1. 1. 0. 1. 1. 1. 1. 1. 0. 1. 1. 1. 1. 1. 0. 1.\n",
            " 1. 1. 0. 0. 0. 1. 1. 1. 0. 1. 1. 1. 1. 1. 1. 0. 0. 1. 1. 1. 1. 1. 1. 0.\n",
            " 1. 0. 1. 0. 1. 1. 0. 1. 0. 0. 1. 1. 0. 1. 1. 1. 1. 1. 0. 1. 1. 1. 1. 1.\n",
            " 0. 0. 1. 1. 1. 1. 1. 1. 1. 0. 0. 1. 1. 1. 0. 1. 0. 0. 1. 0. 1. 0. 0. 1.\n",
            " 1. 0. 1. 1. 0. 0. 0. 0. 1. 0. 1. 0. 1. 1. 0. 0. 1. 1. 1. 0. 1. 1. 0. 1.\n",
            " 1. 1. 1. 0. 0. 1. 0. 1. 1. 0. 0. 0. 0. 1. 0. 1. 0. 0. 0. 1. 1. 0. 1. 0.\n",
            " 1. 0. 1. 0. 1. 0. 1. 1. 1. 0. 0. 0. 0. 1. 1. 1. 1. 0. 1. 0. 1. 1. 1. 0.\n",
            " 1. 1. 1. 0. 0. 0. 1. 1. 1. 0. 1. 0. 1. 0. 0. 1. 0. 1. 1. 1.]\n"
          ],
          "name": "stdout"
        }
      ]
    },
    {
      "cell_type": "code",
      "metadata": {
        "id": "4Xf-L6nT-5fh",
        "colab_type": "code",
        "outputId": "5bd81c64-b4a1-4e66-fc1b-6d4425412af0",
        "colab": {
          "base_uri": "https://localhost:8080/",
          "height": 68
        }
      },
      "source": [
        "# calculate the accuracy, compare it to evaluate() output\n",
        "print(\"manually calculated:\", np.mean(P == y_test))\n",
        "print(\"evaluate output:\", model.evaluate(X_test, y_test))"
      ],
      "execution_count": 10,
      "outputs": [
        {
          "output_type": "stream",
          "text": [
            "manually calculated: 0.9627659574468085\n",
            "188/188 [==============================] - 0s 49us/sample - loss: 0.0899 - accuracy: 0.9628\n",
            "evaluate output: [0.08988825723211816, 0.96276593]\n"
          ],
          "name": "stdout"
        }
      ]
    }
  ]
}